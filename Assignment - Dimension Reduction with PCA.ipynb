{
 "cells": [
  {
   "cell_type": "markdown",
   "id": "7d626824",
   "metadata": {},
   "source": [
    "# problem 1"
   ]
  },
  {
   "cell_type": "markdown",
   "id": "defe635c",
   "metadata": {},
   "source": [
    "### 1.\tPerform hierarchical and K-means clustering on the dataset. After that, perform PCA on the dataset and extract the first 3 principal components and make a new dataset with these 3 principal components as the columns. Now, on this new dataset, perform hierarchical and K-means clustering. Compare the results of clustering on the original dataset and clustering on the principal components dataset (use the scree plot technique to obtain the optimum number of clusters in K-means clustering and check if you’re getting similar results with and without PCA)."
   ]
  },
  {
   "cell_type": "markdown",
   "id": "977a9a02",
   "metadata": {},
   "source": [
    "Data: \n",
    "   The data consist of wine which has the incredents added to it.\n",
    "\n",
    "Data Dictionary:\n",
    "- Dataset contains 3 types of wine\n",
    "- we take 178 data of wines\n",
    "- 13 features are recorded for each tyoe of wine\n",
    "\n",
    "Description:\n",
    "- Alcohol - % of Alcohol added  in wine\n",
    "- Malic - Malic acid is a tart-tasting compound \n",
    "- Ash - % of inorganic matter that remains after evaporation and incineration\n",
    "- Alcalinity - % of Alcalinity in wine\n",
    "- Magnesium - Average amount of Magnesium added in  wine in int\n",
    "- Phenols - % of Phenolic content in wine\n",
    "- Flavanoids - % of polyphenolic compounds added to wine\n",
    "- Nonflavanoids - % of hydroxycinamic acids added to wine\n",
    "- Proanthocyanins -% of poly phenosn  added to wine\n",
    "- Color - % of color added to wine\n",
    "- Hue - % of warmth added to color\n",
    "- Dilution -% of diluted wine\n",
    "- Proline - proline is an amino acid in \"integer\"\n"
   ]
  },
  {
   "cell_type": "code",
   "execution_count": 3,
   "id": "e6d15873",
   "metadata": {},
   "outputs": [],
   "source": [
    "#importing required libraries\n",
    "\n",
    "import numpy as np\n",
    "import pandas as pd\n",
    "import matplotlib.pyplot as plt\n",
    "import seaborn as sns\n"
   ]
  },
  {
   "cell_type": "code",
   "execution_count": 4,
   "id": "17215b07",
   "metadata": {},
   "outputs": [],
   "source": [
    "import warnings\n",
    "warnings.filterwarnings('ignore')"
   ]
  },
  {
   "cell_type": "code",
   "execution_count": 5,
   "id": "49da23f9",
   "metadata": {},
   "outputs": [],
   "source": [
    "#setting present working directory\n",
    "import os\n",
    "os.chdir(r\"D:\\360 Data Science 360DigiTMG\\Day14-Datasets_PCA_Problem Statement\")"
   ]
  },
  {
   "cell_type": "code",
   "execution_count": 6,
   "id": "409a71b4",
   "metadata": {},
   "outputs": [],
   "source": [
    "#reading the data into python\n",
    "wine = pd.read_csv('wine.csv')"
   ]
  },
  {
   "cell_type": "code",
   "execution_count": 7,
   "id": "56afd326",
   "metadata": {},
   "outputs": [
    {
     "data": {
      "text/html": [
       "<div>\n",
       "<style scoped>\n",
       "    .dataframe tbody tr th:only-of-type {\n",
       "        vertical-align: middle;\n",
       "    }\n",
       "\n",
       "    .dataframe tbody tr th {\n",
       "        vertical-align: top;\n",
       "    }\n",
       "\n",
       "    .dataframe thead th {\n",
       "        text-align: right;\n",
       "    }\n",
       "</style>\n",
       "<table border=\"1\" class=\"dataframe\">\n",
       "  <thead>\n",
       "    <tr style=\"text-align: right;\">\n",
       "      <th></th>\n",
       "      <th>Type</th>\n",
       "      <th>Alcohol</th>\n",
       "      <th>Malic</th>\n",
       "      <th>Ash</th>\n",
       "      <th>Alcalinity</th>\n",
       "      <th>Magnesium</th>\n",
       "      <th>Phenols</th>\n",
       "      <th>Flavanoids</th>\n",
       "      <th>Nonflavanoids</th>\n",
       "      <th>Proanthocyanins</th>\n",
       "      <th>Color</th>\n",
       "      <th>Hue</th>\n",
       "      <th>Dilution</th>\n",
       "      <th>Proline</th>\n",
       "    </tr>\n",
       "  </thead>\n",
       "  <tbody>\n",
       "    <tr>\n",
       "      <th>0</th>\n",
       "      <td>1</td>\n",
       "      <td>14.23</td>\n",
       "      <td>1.71</td>\n",
       "      <td>2.43</td>\n",
       "      <td>15.6</td>\n",
       "      <td>127</td>\n",
       "      <td>2.80</td>\n",
       "      <td>3.06</td>\n",
       "      <td>0.28</td>\n",
       "      <td>2.29</td>\n",
       "      <td>5.64</td>\n",
       "      <td>1.04</td>\n",
       "      <td>3.92</td>\n",
       "      <td>1065</td>\n",
       "    </tr>\n",
       "    <tr>\n",
       "      <th>1</th>\n",
       "      <td>1</td>\n",
       "      <td>13.20</td>\n",
       "      <td>1.78</td>\n",
       "      <td>2.14</td>\n",
       "      <td>11.2</td>\n",
       "      <td>100</td>\n",
       "      <td>2.65</td>\n",
       "      <td>2.76</td>\n",
       "      <td>0.26</td>\n",
       "      <td>1.28</td>\n",
       "      <td>4.38</td>\n",
       "      <td>1.05</td>\n",
       "      <td>3.40</td>\n",
       "      <td>1050</td>\n",
       "    </tr>\n",
       "    <tr>\n",
       "      <th>2</th>\n",
       "      <td>1</td>\n",
       "      <td>13.16</td>\n",
       "      <td>2.36</td>\n",
       "      <td>2.67</td>\n",
       "      <td>18.6</td>\n",
       "      <td>101</td>\n",
       "      <td>2.80</td>\n",
       "      <td>3.24</td>\n",
       "      <td>0.30</td>\n",
       "      <td>2.81</td>\n",
       "      <td>5.68</td>\n",
       "      <td>1.03</td>\n",
       "      <td>3.17</td>\n",
       "      <td>1185</td>\n",
       "    </tr>\n",
       "    <tr>\n",
       "      <th>3</th>\n",
       "      <td>1</td>\n",
       "      <td>14.37</td>\n",
       "      <td>1.95</td>\n",
       "      <td>2.50</td>\n",
       "      <td>16.8</td>\n",
       "      <td>113</td>\n",
       "      <td>3.85</td>\n",
       "      <td>3.49</td>\n",
       "      <td>0.24</td>\n",
       "      <td>2.18</td>\n",
       "      <td>7.80</td>\n",
       "      <td>0.86</td>\n",
       "      <td>3.45</td>\n",
       "      <td>1480</td>\n",
       "    </tr>\n",
       "    <tr>\n",
       "      <th>4</th>\n",
       "      <td>1</td>\n",
       "      <td>13.24</td>\n",
       "      <td>2.59</td>\n",
       "      <td>2.87</td>\n",
       "      <td>21.0</td>\n",
       "      <td>118</td>\n",
       "      <td>2.80</td>\n",
       "      <td>2.69</td>\n",
       "      <td>0.39</td>\n",
       "      <td>1.82</td>\n",
       "      <td>4.32</td>\n",
       "      <td>1.04</td>\n",
       "      <td>2.93</td>\n",
       "      <td>735</td>\n",
       "    </tr>\n",
       "    <tr>\n",
       "      <th>...</th>\n",
       "      <td>...</td>\n",
       "      <td>...</td>\n",
       "      <td>...</td>\n",
       "      <td>...</td>\n",
       "      <td>...</td>\n",
       "      <td>...</td>\n",
       "      <td>...</td>\n",
       "      <td>...</td>\n",
       "      <td>...</td>\n",
       "      <td>...</td>\n",
       "      <td>...</td>\n",
       "      <td>...</td>\n",
       "      <td>...</td>\n",
       "      <td>...</td>\n",
       "    </tr>\n",
       "    <tr>\n",
       "      <th>173</th>\n",
       "      <td>3</td>\n",
       "      <td>13.71</td>\n",
       "      <td>5.65</td>\n",
       "      <td>2.45</td>\n",
       "      <td>20.5</td>\n",
       "      <td>95</td>\n",
       "      <td>1.68</td>\n",
       "      <td>0.61</td>\n",
       "      <td>0.52</td>\n",
       "      <td>1.06</td>\n",
       "      <td>7.70</td>\n",
       "      <td>0.64</td>\n",
       "      <td>1.74</td>\n",
       "      <td>740</td>\n",
       "    </tr>\n",
       "    <tr>\n",
       "      <th>174</th>\n",
       "      <td>3</td>\n",
       "      <td>13.40</td>\n",
       "      <td>3.91</td>\n",
       "      <td>2.48</td>\n",
       "      <td>23.0</td>\n",
       "      <td>102</td>\n",
       "      <td>1.80</td>\n",
       "      <td>0.75</td>\n",
       "      <td>0.43</td>\n",
       "      <td>1.41</td>\n",
       "      <td>7.30</td>\n",
       "      <td>0.70</td>\n",
       "      <td>1.56</td>\n",
       "      <td>750</td>\n",
       "    </tr>\n",
       "    <tr>\n",
       "      <th>175</th>\n",
       "      <td>3</td>\n",
       "      <td>13.27</td>\n",
       "      <td>4.28</td>\n",
       "      <td>2.26</td>\n",
       "      <td>20.0</td>\n",
       "      <td>120</td>\n",
       "      <td>1.59</td>\n",
       "      <td>0.69</td>\n",
       "      <td>0.43</td>\n",
       "      <td>1.35</td>\n",
       "      <td>10.20</td>\n",
       "      <td>0.59</td>\n",
       "      <td>1.56</td>\n",
       "      <td>835</td>\n",
       "    </tr>\n",
       "    <tr>\n",
       "      <th>176</th>\n",
       "      <td>3</td>\n",
       "      <td>13.17</td>\n",
       "      <td>2.59</td>\n",
       "      <td>2.37</td>\n",
       "      <td>20.0</td>\n",
       "      <td>120</td>\n",
       "      <td>1.65</td>\n",
       "      <td>0.68</td>\n",
       "      <td>0.53</td>\n",
       "      <td>1.46</td>\n",
       "      <td>9.30</td>\n",
       "      <td>0.60</td>\n",
       "      <td>1.62</td>\n",
       "      <td>840</td>\n",
       "    </tr>\n",
       "    <tr>\n",
       "      <th>177</th>\n",
       "      <td>3</td>\n",
       "      <td>14.13</td>\n",
       "      <td>4.10</td>\n",
       "      <td>2.74</td>\n",
       "      <td>24.5</td>\n",
       "      <td>96</td>\n",
       "      <td>2.05</td>\n",
       "      <td>0.76</td>\n",
       "      <td>0.56</td>\n",
       "      <td>1.35</td>\n",
       "      <td>9.20</td>\n",
       "      <td>0.61</td>\n",
       "      <td>1.60</td>\n",
       "      <td>560</td>\n",
       "    </tr>\n",
       "  </tbody>\n",
       "</table>\n",
       "<p>178 rows × 14 columns</p>\n",
       "</div>"
      ],
      "text/plain": [
       "     Type  Alcohol  Malic   Ash  Alcalinity  Magnesium  Phenols  Flavanoids  \\\n",
       "0       1    14.23   1.71  2.43        15.6        127     2.80        3.06   \n",
       "1       1    13.20   1.78  2.14        11.2        100     2.65        2.76   \n",
       "2       1    13.16   2.36  2.67        18.6        101     2.80        3.24   \n",
       "3       1    14.37   1.95  2.50        16.8        113     3.85        3.49   \n",
       "4       1    13.24   2.59  2.87        21.0        118     2.80        2.69   \n",
       "..    ...      ...    ...   ...         ...        ...      ...         ...   \n",
       "173     3    13.71   5.65  2.45        20.5         95     1.68        0.61   \n",
       "174     3    13.40   3.91  2.48        23.0        102     1.80        0.75   \n",
       "175     3    13.27   4.28  2.26        20.0        120     1.59        0.69   \n",
       "176     3    13.17   2.59  2.37        20.0        120     1.65        0.68   \n",
       "177     3    14.13   4.10  2.74        24.5         96     2.05        0.76   \n",
       "\n",
       "     Nonflavanoids  Proanthocyanins  Color   Hue  Dilution  Proline  \n",
       "0             0.28             2.29   5.64  1.04      3.92     1065  \n",
       "1             0.26             1.28   4.38  1.05      3.40     1050  \n",
       "2             0.30             2.81   5.68  1.03      3.17     1185  \n",
       "3             0.24             2.18   7.80  0.86      3.45     1480  \n",
       "4             0.39             1.82   4.32  1.04      2.93      735  \n",
       "..             ...              ...    ...   ...       ...      ...  \n",
       "173           0.52             1.06   7.70  0.64      1.74      740  \n",
       "174           0.43             1.41   7.30  0.70      1.56      750  \n",
       "175           0.43             1.35  10.20  0.59      1.56      835  \n",
       "176           0.53             1.46   9.30  0.60      1.62      840  \n",
       "177           0.56             1.35   9.20  0.61      1.60      560  \n",
       "\n",
       "[178 rows x 14 columns]"
      ]
     },
     "execution_count": 7,
     "metadata": {},
     "output_type": "execute_result"
    }
   ],
   "source": [
    "#display the data\n",
    "wine"
   ]
  },
  {
   "cell_type": "code",
   "execution_count": 8,
   "id": "4d00eff0",
   "metadata": {},
   "outputs": [
    {
     "data": {
      "text/plain": [
       "(178, 14)"
      ]
     },
     "execution_count": 8,
     "metadata": {},
     "output_type": "execute_result"
    }
   ],
   "source": [
    "#shape of the data\n",
    "wine.shape"
   ]
  },
  {
   "cell_type": "code",
   "execution_count": 9,
   "id": "fa6f09c1",
   "metadata": {},
   "outputs": [
    {
     "name": "stdout",
     "output_type": "stream",
     "text": [
      "<class 'pandas.core.frame.DataFrame'>\n",
      "RangeIndex: 178 entries, 0 to 177\n",
      "Data columns (total 14 columns):\n",
      " #   Column           Non-Null Count  Dtype  \n",
      "---  ------           --------------  -----  \n",
      " 0   Type             178 non-null    int64  \n",
      " 1   Alcohol          178 non-null    float64\n",
      " 2   Malic            178 non-null    float64\n",
      " 3   Ash              178 non-null    float64\n",
      " 4   Alcalinity       178 non-null    float64\n",
      " 5   Magnesium        178 non-null    int64  \n",
      " 6   Phenols          178 non-null    float64\n",
      " 7   Flavanoids       178 non-null    float64\n",
      " 8   Nonflavanoids    178 non-null    float64\n",
      " 9   Proanthocyanins  178 non-null    float64\n",
      " 10  Color            178 non-null    float64\n",
      " 11  Hue              178 non-null    float64\n",
      " 12  Dilution         178 non-null    float64\n",
      " 13  Proline          178 non-null    int64  \n",
      "dtypes: float64(11), int64(3)\n",
      "memory usage: 19.6 KB\n"
     ]
    }
   ],
   "source": [
    "#information about the data\n",
    "wine.info()"
   ]
  },
  {
   "cell_type": "code",
   "execution_count": 10,
   "id": "2030aa25",
   "metadata": {},
   "outputs": [
    {
     "data": {
      "text/html": [
       "<div>\n",
       "<style scoped>\n",
       "    .dataframe tbody tr th:only-of-type {\n",
       "        vertical-align: middle;\n",
       "    }\n",
       "\n",
       "    .dataframe tbody tr th {\n",
       "        vertical-align: top;\n",
       "    }\n",
       "\n",
       "    .dataframe thead th {\n",
       "        text-align: right;\n",
       "    }\n",
       "</style>\n",
       "<table border=\"1\" class=\"dataframe\">\n",
       "  <thead>\n",
       "    <tr style=\"text-align: right;\">\n",
       "      <th></th>\n",
       "      <th>Type</th>\n",
       "      <th>Alcohol</th>\n",
       "      <th>Malic</th>\n",
       "      <th>Ash</th>\n",
       "      <th>Alcalinity</th>\n",
       "      <th>Magnesium</th>\n",
       "      <th>Phenols</th>\n",
       "      <th>Flavanoids</th>\n",
       "      <th>Nonflavanoids</th>\n",
       "      <th>Proanthocyanins</th>\n",
       "      <th>Color</th>\n",
       "      <th>Hue</th>\n",
       "      <th>Dilution</th>\n",
       "      <th>Proline</th>\n",
       "    </tr>\n",
       "  </thead>\n",
       "  <tbody>\n",
       "    <tr>\n",
       "      <th>count</th>\n",
       "      <td>178.000000</td>\n",
       "      <td>178.000000</td>\n",
       "      <td>178.000000</td>\n",
       "      <td>178.000000</td>\n",
       "      <td>178.000000</td>\n",
       "      <td>178.000000</td>\n",
       "      <td>178.000000</td>\n",
       "      <td>178.000000</td>\n",
       "      <td>178.000000</td>\n",
       "      <td>178.000000</td>\n",
       "      <td>178.000000</td>\n",
       "      <td>178.000000</td>\n",
       "      <td>178.000000</td>\n",
       "      <td>178.000000</td>\n",
       "    </tr>\n",
       "    <tr>\n",
       "      <th>mean</th>\n",
       "      <td>1.938202</td>\n",
       "      <td>13.000618</td>\n",
       "      <td>2.336348</td>\n",
       "      <td>2.366517</td>\n",
       "      <td>19.494944</td>\n",
       "      <td>99.741573</td>\n",
       "      <td>2.295112</td>\n",
       "      <td>2.029270</td>\n",
       "      <td>0.361854</td>\n",
       "      <td>1.590899</td>\n",
       "      <td>5.058090</td>\n",
       "      <td>0.957449</td>\n",
       "      <td>2.611685</td>\n",
       "      <td>746.893258</td>\n",
       "    </tr>\n",
       "    <tr>\n",
       "      <th>std</th>\n",
       "      <td>0.775035</td>\n",
       "      <td>0.811827</td>\n",
       "      <td>1.117146</td>\n",
       "      <td>0.274344</td>\n",
       "      <td>3.339564</td>\n",
       "      <td>14.282484</td>\n",
       "      <td>0.625851</td>\n",
       "      <td>0.998859</td>\n",
       "      <td>0.124453</td>\n",
       "      <td>0.572359</td>\n",
       "      <td>2.318286</td>\n",
       "      <td>0.228572</td>\n",
       "      <td>0.709990</td>\n",
       "      <td>314.907474</td>\n",
       "    </tr>\n",
       "    <tr>\n",
       "      <th>min</th>\n",
       "      <td>1.000000</td>\n",
       "      <td>11.030000</td>\n",
       "      <td>0.740000</td>\n",
       "      <td>1.360000</td>\n",
       "      <td>10.600000</td>\n",
       "      <td>70.000000</td>\n",
       "      <td>0.980000</td>\n",
       "      <td>0.340000</td>\n",
       "      <td>0.130000</td>\n",
       "      <td>0.410000</td>\n",
       "      <td>1.280000</td>\n",
       "      <td>0.480000</td>\n",
       "      <td>1.270000</td>\n",
       "      <td>278.000000</td>\n",
       "    </tr>\n",
       "    <tr>\n",
       "      <th>25%</th>\n",
       "      <td>1.000000</td>\n",
       "      <td>12.362500</td>\n",
       "      <td>1.602500</td>\n",
       "      <td>2.210000</td>\n",
       "      <td>17.200000</td>\n",
       "      <td>88.000000</td>\n",
       "      <td>1.742500</td>\n",
       "      <td>1.205000</td>\n",
       "      <td>0.270000</td>\n",
       "      <td>1.250000</td>\n",
       "      <td>3.220000</td>\n",
       "      <td>0.782500</td>\n",
       "      <td>1.937500</td>\n",
       "      <td>500.500000</td>\n",
       "    </tr>\n",
       "    <tr>\n",
       "      <th>50%</th>\n",
       "      <td>2.000000</td>\n",
       "      <td>13.050000</td>\n",
       "      <td>1.865000</td>\n",
       "      <td>2.360000</td>\n",
       "      <td>19.500000</td>\n",
       "      <td>98.000000</td>\n",
       "      <td>2.355000</td>\n",
       "      <td>2.135000</td>\n",
       "      <td>0.340000</td>\n",
       "      <td>1.555000</td>\n",
       "      <td>4.690000</td>\n",
       "      <td>0.965000</td>\n",
       "      <td>2.780000</td>\n",
       "      <td>673.500000</td>\n",
       "    </tr>\n",
       "    <tr>\n",
       "      <th>75%</th>\n",
       "      <td>3.000000</td>\n",
       "      <td>13.677500</td>\n",
       "      <td>3.082500</td>\n",
       "      <td>2.557500</td>\n",
       "      <td>21.500000</td>\n",
       "      <td>107.000000</td>\n",
       "      <td>2.800000</td>\n",
       "      <td>2.875000</td>\n",
       "      <td>0.437500</td>\n",
       "      <td>1.950000</td>\n",
       "      <td>6.200000</td>\n",
       "      <td>1.120000</td>\n",
       "      <td>3.170000</td>\n",
       "      <td>985.000000</td>\n",
       "    </tr>\n",
       "    <tr>\n",
       "      <th>max</th>\n",
       "      <td>3.000000</td>\n",
       "      <td>14.830000</td>\n",
       "      <td>5.800000</td>\n",
       "      <td>3.230000</td>\n",
       "      <td>30.000000</td>\n",
       "      <td>162.000000</td>\n",
       "      <td>3.880000</td>\n",
       "      <td>5.080000</td>\n",
       "      <td>0.660000</td>\n",
       "      <td>3.580000</td>\n",
       "      <td>13.000000</td>\n",
       "      <td>1.710000</td>\n",
       "      <td>4.000000</td>\n",
       "      <td>1680.000000</td>\n",
       "    </tr>\n",
       "  </tbody>\n",
       "</table>\n",
       "</div>"
      ],
      "text/plain": [
       "             Type     Alcohol       Malic         Ash  Alcalinity   Magnesium  \\\n",
       "count  178.000000  178.000000  178.000000  178.000000  178.000000  178.000000   \n",
       "mean     1.938202   13.000618    2.336348    2.366517   19.494944   99.741573   \n",
       "std      0.775035    0.811827    1.117146    0.274344    3.339564   14.282484   \n",
       "min      1.000000   11.030000    0.740000    1.360000   10.600000   70.000000   \n",
       "25%      1.000000   12.362500    1.602500    2.210000   17.200000   88.000000   \n",
       "50%      2.000000   13.050000    1.865000    2.360000   19.500000   98.000000   \n",
       "75%      3.000000   13.677500    3.082500    2.557500   21.500000  107.000000   \n",
       "max      3.000000   14.830000    5.800000    3.230000   30.000000  162.000000   \n",
       "\n",
       "          Phenols  Flavanoids  Nonflavanoids  Proanthocyanins       Color  \\\n",
       "count  178.000000  178.000000     178.000000       178.000000  178.000000   \n",
       "mean     2.295112    2.029270       0.361854         1.590899    5.058090   \n",
       "std      0.625851    0.998859       0.124453         0.572359    2.318286   \n",
       "min      0.980000    0.340000       0.130000         0.410000    1.280000   \n",
       "25%      1.742500    1.205000       0.270000         1.250000    3.220000   \n",
       "50%      2.355000    2.135000       0.340000         1.555000    4.690000   \n",
       "75%      2.800000    2.875000       0.437500         1.950000    6.200000   \n",
       "max      3.880000    5.080000       0.660000         3.580000   13.000000   \n",
       "\n",
       "              Hue    Dilution      Proline  \n",
       "count  178.000000  178.000000   178.000000  \n",
       "mean     0.957449    2.611685   746.893258  \n",
       "std      0.228572    0.709990   314.907474  \n",
       "min      0.480000    1.270000   278.000000  \n",
       "25%      0.782500    1.937500   500.500000  \n",
       "50%      0.965000    2.780000   673.500000  \n",
       "75%      1.120000    3.170000   985.000000  \n",
       "max      1.710000    4.000000  1680.000000  "
      ]
     },
     "execution_count": 10,
     "metadata": {},
     "output_type": "execute_result"
    }
   ],
   "source": [
    "#data preprocessing\n",
    "#eda or statistical anlysis\n",
    "wine.describe()"
   ]
  },
  {
   "cell_type": "code",
   "execution_count": 11,
   "id": "e49a8f96",
   "metadata": {},
   "outputs": [],
   "source": [
    "wine1=wine.drop(['Type'],axis=1)"
   ]
  },
  {
   "cell_type": "code",
   "execution_count": 12,
   "id": "880a92f5",
   "metadata": {},
   "outputs": [
    {
     "data": {
      "text/plain": [
       "Type               0\n",
       "Alcohol            0\n",
       "Malic              0\n",
       "Ash                0\n",
       "Alcalinity         0\n",
       "Magnesium          0\n",
       "Phenols            0\n",
       "Flavanoids         0\n",
       "Nonflavanoids      0\n",
       "Proanthocyanins    0\n",
       "Color              0\n",
       "Hue                0\n",
       "Dilution           0\n",
       "Proline            0\n",
       "dtype: int64"
      ]
     },
     "execution_count": 12,
     "metadata": {},
     "output_type": "execute_result"
    }
   ],
   "source": [
    "#checking null values\n",
    "wine.isnull().sum()"
   ]
  },
  {
   "cell_type": "code",
   "execution_count": 13,
   "id": "814b2b60",
   "metadata": {},
   "outputs": [
    {
     "data": {
      "text/plain": [
       "0"
      ]
     },
     "execution_count": 13,
     "metadata": {},
     "output_type": "execute_result"
    }
   ],
   "source": [
    "#hence there is no null values \n",
    "#we can see is there any duplicates in the data\n",
    "dup = wine.duplicated()\n",
    "sum(dup)"
   ]
  },
  {
   "cell_type": "code",
   "execution_count": 14,
   "id": "70183231",
   "metadata": {},
   "outputs": [
    {
     "data": {
      "image/png": "[encoded data removed]",
      "text/plain": [
       "<Figure size 1500x800 with 14 Axes>"
      ]
     },
     "metadata": {},
     "output_type": "display_data"
    }
   ],
   "source": [
    "#check any outlier is present in the data\n",
    "wine.plot(kind='box',subplots=True, sharey=False,figsize=(15,8))\n",
    "plt.subplots_adjust(wspace=0.75)\n",
    "plt.show()"
   ]
  },
  {
   "cell_type": "code",
   "execution_count": 15,
   "id": "b69005e6",
   "metadata": {},
   "outputs": [],
   "source": [
    "#to treat the  outlier\n",
    "\n",
    "from feature_engine.outliers import Winsorizer"
   ]
  },
  {
   "cell_type": "code",
   "execution_count": 16,
   "id": "8ae320e0",
   "metadata": {},
   "outputs": [],
   "source": [
    "winsor = Winsorizer(capping_method='iqr',tail='both',fold=1.5,\n",
    "                    variables=['Malic','Ash','Alcalinity','Magnesium','Proanthocyanins','Color','Hue'])"
   ]
  },
  {
   "cell_type": "code",
   "execution_count": 16,
   "id": "35cbbbfe",
   "metadata": {},
   "outputs": [],
   "source": [
    "wine = winsor.fit_transform(wine)"
   ]
  },
  {
   "cell_type": "code",
   "execution_count": 17,
   "id": "f83f064e",
   "metadata": {},
   "outputs": [
    {
     "data": {
      "image/png": "[encoded data removed]",
      "text/plain": [
       "<Figure size 1500x800 with 14 Axes>"
      ]
     },
     "metadata": {},
     "output_type": "display_data"
    }
   ],
   "source": [
    "#check the outlier  after treatment does any present in the data\n",
    "wine.plot(kind='box',subplots=True, sharey=False,figsize=(15,8))\n",
    "plt.subplots_adjust(wspace=0.75)\n",
    "plt.show()"
   ]
  },
  {
   "cell_type": "code",
   "execution_count": 18,
   "id": "548c44da",
   "metadata": {},
   "outputs": [],
   "source": [
    "#Data has to be standardized to address the scale difference\n",
    "from sklearn.pipeline import make_pipeline\n",
    "from sklearn.preprocessing import StandardScaler\n",
    "from sklearn.preprocessing import scale\n",
    "from sklearn.decomposition import PCA"
   ]
  },
  {
   "cell_type": "code",
   "execution_count": 22,
   "id": "14885a14",
   "metadata": {},
   "outputs": [],
   "source": [
    "#normalization function\n",
    "def norm_func(i):\n",
    "    x = (i-i.min()) / (i.max()-i.min())\n",
    "    return(x)"
   ]
  },
  {
   "cell_type": "code",
   "execution_count": 23,
   "id": "396cc25b",
   "metadata": {},
   "outputs": [],
   "source": [
    "# Normalizing the numerical data \n",
    "df_norm = norm_func(wine.iloc[:, 1:])"
   ]
  },
  {
   "cell_type": "code",
   "execution_count": 24,
   "id": "45e6d859",
   "metadata": {},
   "outputs": [
    {
     "data": {
      "text/html": [
       "<div>\n",
       "<style scoped>\n",
       "    .dataframe tbody tr th:only-of-type {\n",
       "        vertical-align: middle;\n",
       "    }\n",
       "\n",
       "    .dataframe tbody tr th {\n",
       "        vertical-align: top;\n",
       "    }\n",
       "\n",
       "    .dataframe thead th {\n",
       "        text-align: right;\n",
       "    }\n",
       "</style>\n",
       "<table border=\"1\" class=\"dataframe\">\n",
       "  <thead>\n",
       "    <tr style=\"text-align: right;\">\n",
       "      <th></th>\n",
       "      <th>Alcohol</th>\n",
       "      <th>Malic</th>\n",
       "      <th>Ash</th>\n",
       "      <th>Alcalinity</th>\n",
       "      <th>Magnesium</th>\n",
       "      <th>Phenols</th>\n",
       "      <th>Flavanoids</th>\n",
       "      <th>Nonflavanoids</th>\n",
       "      <th>Proanthocyanins</th>\n",
       "      <th>Color</th>\n",
       "      <th>Hue</th>\n",
       "      <th>Dilution</th>\n",
       "      <th>Proline</th>\n",
       "    </tr>\n",
       "  </thead>\n",
       "  <tbody>\n",
       "    <tr>\n",
       "      <th>count</th>\n",
       "      <td>178.000000</td>\n",
       "      <td>178.000000</td>\n",
       "      <td>178.000000</td>\n",
       "      <td>178.000000</td>\n",
       "      <td>178.000000</td>\n",
       "      <td>178.000000</td>\n",
       "      <td>178.000000</td>\n",
       "      <td>178.000000</td>\n",
       "      <td>178.000000</td>\n",
       "      <td>178.000000</td>\n",
       "      <td>178.000000</td>\n",
       "      <td>178.000000</td>\n",
       "      <td>178.000000</td>\n",
       "    </tr>\n",
       "    <tr>\n",
       "      <th>mean</th>\n",
       "      <td>0.518584</td>\n",
       "      <td>0.348589</td>\n",
       "      <td>0.487749</td>\n",
       "      <td>0.507447</td>\n",
       "      <td>0.450124</td>\n",
       "      <td>0.453487</td>\n",
       "      <td>0.356386</td>\n",
       "      <td>0.437460</td>\n",
       "      <td>0.454080</td>\n",
       "      <td>0.400229</td>\n",
       "      <td>0.416121</td>\n",
       "      <td>0.491460</td>\n",
       "      <td>0.334446</td>\n",
       "    </tr>\n",
       "    <tr>\n",
       "      <th>std</th>\n",
       "      <td>0.213639</td>\n",
       "      <td>0.241134</td>\n",
       "      <td>0.189716</td>\n",
       "      <td>0.191149</td>\n",
       "      <td>0.204797</td>\n",
       "      <td>0.215811</td>\n",
       "      <td>0.210730</td>\n",
       "      <td>0.234818</td>\n",
       "      <td>0.215503</td>\n",
       "      <td>0.240775</td>\n",
       "      <td>0.198120</td>\n",
       "      <td>0.260070</td>\n",
       "      <td>0.224613</td>\n",
       "    </tr>\n",
       "    <tr>\n",
       "      <th>min</th>\n",
       "      <td>0.000000</td>\n",
       "      <td>0.000000</td>\n",
       "      <td>0.000000</td>\n",
       "      <td>0.000000</td>\n",
       "      <td>0.000000</td>\n",
       "      <td>0.000000</td>\n",
       "      <td>0.000000</td>\n",
       "      <td>0.000000</td>\n",
       "      <td>0.000000</td>\n",
       "      <td>0.000000</td>\n",
       "      <td>0.000000</td>\n",
       "      <td>0.000000</td>\n",
       "      <td>0.000000</td>\n",
       "    </tr>\n",
       "    <tr>\n",
       "      <th>25%</th>\n",
       "      <td>0.350658</td>\n",
       "      <td>0.189041</td>\n",
       "      <td>0.375000</td>\n",
       "      <td>0.375000</td>\n",
       "      <td>0.274809</td>\n",
       "      <td>0.262931</td>\n",
       "      <td>0.182489</td>\n",
       "      <td>0.264151</td>\n",
       "      <td>0.324324</td>\n",
       "      <td>0.206603</td>\n",
       "      <td>0.263904</td>\n",
       "      <td>0.244505</td>\n",
       "      <td>0.158702</td>\n",
       "    </tr>\n",
       "    <tr>\n",
       "      <th>50%</th>\n",
       "      <td>0.531579</td>\n",
       "      <td>0.246575</td>\n",
       "      <td>0.482914</td>\n",
       "      <td>0.508721</td>\n",
       "      <td>0.427481</td>\n",
       "      <td>0.474138</td>\n",
       "      <td>0.378692</td>\n",
       "      <td>0.396226</td>\n",
       "      <td>0.442085</td>\n",
       "      <td>0.363152</td>\n",
       "      <td>0.423119</td>\n",
       "      <td>0.553114</td>\n",
       "      <td>0.282097</td>\n",
       "    </tr>\n",
       "    <tr>\n",
       "      <th>75%</th>\n",
       "      <td>0.696711</td>\n",
       "      <td>0.513425</td>\n",
       "      <td>0.625000</td>\n",
       "      <td>0.625000</td>\n",
       "      <td>0.564885</td>\n",
       "      <td>0.627586</td>\n",
       "      <td>0.534810</td>\n",
       "      <td>0.580189</td>\n",
       "      <td>0.594595</td>\n",
       "      <td>0.523962</td>\n",
       "      <td>0.558342</td>\n",
       "      <td>0.695971</td>\n",
       "      <td>0.504280</td>\n",
       "    </tr>\n",
       "    <tr>\n",
       "      <th>max</th>\n",
       "      <td>1.000000</td>\n",
       "      <td>1.000000</td>\n",
       "      <td>1.000000</td>\n",
       "      <td>1.000000</td>\n",
       "      <td>1.000000</td>\n",
       "      <td>1.000000</td>\n",
       "      <td>1.000000</td>\n",
       "      <td>1.000000</td>\n",
       "      <td>1.000000</td>\n",
       "      <td>1.000000</td>\n",
       "      <td>1.000000</td>\n",
       "      <td>1.000000</td>\n",
       "      <td>1.000000</td>\n",
       "    </tr>\n",
       "  </tbody>\n",
       "</table>\n",
       "</div>"
      ],
      "text/plain": [
       "          Alcohol       Malic         Ash  Alcalinity   Magnesium     Phenols  \\\n",
       "count  178.000000  178.000000  178.000000  178.000000  178.000000  178.000000   \n",
       "mean     0.518584    0.348589    0.487749    0.507447    0.450124    0.453487   \n",
       "std      0.213639    0.241134    0.189716    0.191149    0.204797    0.215811   \n",
       "min      0.000000    0.000000    0.000000    0.000000    0.000000    0.000000   \n",
       "25%      0.350658    0.189041    0.375000    0.375000    0.274809    0.262931   \n",
       "50%      0.531579    0.246575    0.482914    0.508721    0.427481    0.474138   \n",
       "75%      0.696711    0.513425    0.625000    0.625000    0.564885    0.627586   \n",
       "max      1.000000    1.000000    1.000000    1.000000    1.000000    1.000000   \n",
       "\n",
       "       Flavanoids  Nonflavanoids  Proanthocyanins       Color         Hue  \\\n",
       "count  178.000000     178.000000       178.000000  178.000000  178.000000   \n",
       "mean     0.356386       0.437460         0.454080    0.400229    0.416121   \n",
       "std      0.210730       0.234818         0.215503    0.240775    0.198120   \n",
       "min      0.000000       0.000000         0.000000    0.000000    0.000000   \n",
       "25%      0.182489       0.264151         0.324324    0.206603    0.263904   \n",
       "50%      0.378692       0.396226         0.442085    0.363152    0.423119   \n",
       "75%      0.534810       0.580189         0.594595    0.523962    0.558342   \n",
       "max      1.000000       1.000000         1.000000    1.000000    1.000000   \n",
       "\n",
       "         Dilution     Proline  \n",
       "count  178.000000  178.000000  \n",
       "mean     0.491460    0.334446  \n",
       "std      0.260070    0.224613  \n",
       "min      0.000000    0.000000  \n",
       "25%      0.244505    0.158702  \n",
       "50%      0.553114    0.282097  \n",
       "75%      0.695971    0.504280  \n",
       "max      1.000000    1.000000  "
      ]
     },
     "execution_count": 24,
     "metadata": {},
     "output_type": "execute_result"
    }
   ],
   "source": [
    "df_norm.describe()"
   ]
  },
  {
   "cell_type": "code",
   "execution_count": 25,
   "id": "5114428e",
   "metadata": {},
   "outputs": [
    {
     "data": {
      "text/plain": [
       "PCA(n_components=3)"
      ]
     },
     "execution_count": 25,
     "metadata": {},
     "output_type": "execute_result"
    }
   ],
   "source": [
    "pca = PCA(n_components=3)\n",
    "pca"
   ]
  },
  {
   "cell_type": "code",
   "execution_count": 26,
   "id": "df9a05ce",
   "metadata": {},
   "outputs": [],
   "source": [
    "pca_values = pca.fit_transform(df_norm)"
   ]
  },
  {
   "cell_type": "code",
   "execution_count": 28,
   "id": "7e382976",
   "metadata": {},
   "outputs": [
    {
     "data": {
      "text/plain": [
       "array([0.37752763, 0.20073531, 0.0911699 ])"
      ]
     },
     "execution_count": 28,
     "metadata": {},
     "output_type": "execute_result"
    }
   ],
   "source": [
    "var = pca.explained_variance_ratio_\n",
    "var"
   ]
  },
  {
   "cell_type": "code",
   "execution_count": 29,
   "id": "03839e5f",
   "metadata": {},
   "outputs": [
    {
     "data": {
      "text/plain": [
       "array([[-0.11809111,  0.27441585,  0.00740308,  0.19677258, -0.11521284,\n",
       "        -0.37717581, -0.39813   ,  0.31827093, -0.30210379,  0.11973681,\n",
       "        -0.26700973, -0.45522721, -0.26927141],\n",
       "       [-0.47654949, -0.21850037, -0.22884368,  0.05927605, -0.28783769,\n",
       "        -0.08663385, -0.02329605,  0.00711639, -0.05843024, -0.58239814,\n",
       "         0.22129809,  0.17365029, -0.39572317],\n",
       "       [-0.13960398,  0.34063073,  0.55601457,  0.53843272,  0.09969535,\n",
       "         0.18878162,  0.16122338,  0.2385967 ,  0.2083332 , -0.12187429,\n",
       "        -0.01763401,  0.24625245, -0.1330906 ]])"
      ]
     },
     "execution_count": 29,
     "metadata": {},
     "output_type": "execute_result"
    }
   ],
   "source": [
    "pca.components_"
   ]
  },
  {
   "cell_type": "code",
   "execution_count": 30,
   "id": "97272003",
   "metadata": {},
   "outputs": [
    {
     "data": {
      "text/plain": [
       "array([-0.11809111,  0.27441585,  0.00740308,  0.19677258, -0.11521284,\n",
       "       -0.37717581, -0.39813   ,  0.31827093, -0.30210379,  0.11973681,\n",
       "       -0.26700973, -0.45522721, -0.26927141])"
      ]
     },
     "execution_count": 30,
     "metadata": {},
     "output_type": "execute_result"
    }
   ],
   "source": [
    "pca.components_[0]"
   ]
  },
  {
   "cell_type": "code",
   "execution_count": 31,
   "id": "1d78dd92",
   "metadata": {},
   "outputs": [
    {
     "data": {
      "text/plain": [
       "array([0.37752763, 0.57826294, 0.66943284])"
      ]
     },
     "execution_count": 31,
     "metadata": {},
     "output_type": "execute_result"
    }
   ],
   "source": [
    "# Cumulative variance \n",
    "var1 = np.cumsum(pca.explained_variance_ratio_)\n",
    "var1"
   ]
  },
  {
   "cell_type": "code",
   "execution_count": 33,
   "id": "49bc1b1d",
   "metadata": {},
   "outputs": [
    {
     "data": {
      "text/plain": [
       "[<matplotlib.lines.Line2D at 0x1b754e3d0a0>]"
      ]
     },
     "execution_count": 33,
     "metadata": {},
     "output_type": "execute_result"
    },
    {
     "data": {
      "image/png": "[encoded data removed]",
      "text/plain": [
       "<Figure size 640x480 with 1 Axes>"
      ]
     },
     "metadata": {},
     "output_type": "display_data"
    }
   ],
   "source": [
    "plt.plot(var1, color ='red')"
   ]
  },
  {
   "cell_type": "code",
   "execution_count": 36,
   "id": "bd54fdc1",
   "metadata": {},
   "outputs": [
    {
     "data": {
      "text/plain": [
       "array([[-7.42378094e-01, -3.34163295e-01,  2.07339235e-02],\n",
       "       [-4.88848026e-01,  2.25957240e-02, -3.70532896e-01],\n",
       "       [-5.47607153e-01, -2.44359066e-01,  2.36458137e-01],\n",
       "       [-8.09298310e-01, -6.56370395e-01,  2.68313656e-02],\n",
       "       [-2.15145425e-01, -1.40491082e-01,  4.12441257e-01],\n",
       "       [-6.15710481e-01, -5.22832038e-01, -1.06317422e-01],\n",
       "       [-5.48821718e-01, -2.78329870e-01, -1.44173446e-01],\n",
       "       [-4.64367356e-01, -3.43838562e-01,  3.82783702e-02],\n",
       "       [-5.15935176e-01, -2.56812167e-01, -3.18963767e-01],\n",
       "       [-6.20802055e-01, -2.33739369e-01, -1.87316748e-01],\n",
       "       [-7.41607158e-01, -3.61243423e-01, -6.69674852e-02],\n",
       "       [-3.76750846e-01, -1.75351040e-01, -2.88269621e-01],\n",
       "       [-4.46768776e-01, -1.97989953e-01, -1.88173791e-01],\n",
       "       [-6.74656747e-01, -3.16053507e-01, -1.64362177e-01],\n",
       "       [-8.73502083e-01, -5.66758554e-01, -1.88252167e-01],\n",
       "       [-4.65044982e-01, -4.10420214e-01, -1.64111820e-02],\n",
       "       [-4.36465104e-01, -5.17729507e-01,  1.33721373e-01],\n",
       "       [-3.71525531e-01, -3.78745045e-01,  1.08166125e-01],\n",
       "       [-7.08230389e-01, -6.50675937e-01, -1.22184393e-01],\n",
       "       [-4.54637510e-01, -2.40788596e-01,  3.98066678e-02],\n",
       "       [-6.95244715e-01, -2.05192267e-01, -3.73115194e-02],\n",
       "       [-2.62192246e-01, -3.92093425e-02,  2.89328935e-01],\n",
       "       [-6.03931737e-01,  1.42479659e-02, -2.36201610e-02],\n",
       "       [-4.15286941e-01,  1.20341267e-01, -6.70307927e-04],\n",
       "       [-4.48195174e-01,  1.01513183e-01,  1.72166269e-01],\n",
       "       [-2.39743069e-01, -8.01735745e-02,  6.53165297e-01],\n",
       "       [-3.99542719e-01, -1.45274886e-01, -8.14005122e-03],\n",
       "       [-2.79002474e-01, -1.74166776e-02, -3.04876802e-01],\n",
       "       [-4.83158122e-01, -1.28407369e-01,  2.68150965e-01],\n",
       "       [-5.25947478e-01, -7.19913334e-02, -1.79707666e-01],\n",
       "       [-5.34487425e-01, -2.90447443e-01,  2.05960344e-01],\n",
       "       [-5.72262431e-01, -3.91613904e-01, -1.09202354e-01],\n",
       "       [-3.35502244e-01, -2.78507172e-02, -3.02122837e-02],\n",
       "       [-3.83431872e-01, -3.49407193e-01,  1.85331172e-01],\n",
       "       [-3.11100980e-01, -1.39233193e-01,  3.95255300e-02],\n",
       "       [-4.55740712e-01, -4.74575720e-02,  8.74077711e-02],\n",
       "       [-2.82967802e-01, -1.21322786e-01,  3.91274054e-02],\n",
       "       [-2.35547177e-01, -3.38124450e-02, -8.36580920e-02],\n",
       "       [-3.19843265e-01,  1.19377642e-01, -3.29580566e-01],\n",
       "       [-5.29935420e-01, -4.04334889e-01,  1.12239596e-01],\n",
       "       [-5.63268384e-01, -2.02186191e-01,  3.44951762e-02],\n",
       "       [-1.50718362e-01, -6.90108377e-02, -3.61159645e-02],\n",
       "       [-6.89854028e-01, -2.66343144e-01, -2.81352892e-02],\n",
       "       [-9.51633841e-02, -7.49487778e-02,  1.09376584e-01],\n",
       "       [-4.84067658e-01, -2.09525141e-02, -8.40690027e-02],\n",
       "       [-2.44413082e-01, -3.88723890e-01,  1.46196281e-01],\n",
       "       [-5.77717275e-01, -3.03569814e-01,  5.68472622e-02],\n",
       "       [-6.26648729e-01, -2.01387310e-01, -1.82858023e-01],\n",
       "       [-4.13033368e-01, -3.12534870e-01,  4.73567625e-03],\n",
       "       [-5.58991210e-01, -4.76136615e-01, -1.17062529e-01],\n",
       "       [-6.73885854e-01, -1.63807311e-01, -3.62237467e-01],\n",
       "       [-6.34728582e-01, -1.98931371e-01, -2.45207344e-02],\n",
       "       [-7.31000812e-01, -4.14319408e-01, -5.12383990e-02],\n",
       "       [-4.50186991e-01, -4.32271208e-01,  5.61225077e-02],\n",
       "       [-4.78315257e-01, -2.58498823e-01, -1.94126028e-01],\n",
       "       [-5.49184268e-01, -3.20451752e-01,  8.07415477e-02],\n",
       "       [-5.95496351e-01, -3.52312722e-01, -8.34229939e-02],\n",
       "       [-4.48965577e-01, -2.91183713e-01,  3.38133518e-02],\n",
       "       [-6.68583446e-01, -4.27316690e-01, -7.70825609e-02],\n",
       "       [ 2.17660324e-01,  5.42647047e-01, -8.54555189e-01],\n",
       "       [ 3.91960946e-01,  3.05942800e-01, -2.90425090e-01],\n",
       "       [ 4.52001847e-01,  1.51700567e-01, -3.95496061e-01],\n",
       "       [-6.87859246e-03,  2.38949597e-01, -4.37822114e-01],\n",
       "       [-4.69237010e-01,  3.69803489e-01, -6.48656267e-02],\n",
       "       [ 1.51694669e-01,  4.36188669e-01,  3.37856170e-03],\n",
       "       [-1.75683836e-01,  1.56657626e-01,  2.46016154e-02],\n",
       "       [-5.10015598e-01,  3.15625136e-01, -3.79883654e-01],\n",
       "       [-1.20159086e-01,  4.95574426e-01, -2.66413075e-01],\n",
       "       [ 2.13212864e-01,  7.95754716e-02, -2.37649067e-01],\n",
       "       [-4.34323762e-01,  3.16565083e-01, -3.45114259e-01],\n",
       "       [ 3.36976948e-01,  2.09123358e-01, -2.31267445e-01],\n",
       "       [-4.08559697e-01,  2.38396680e-01,  3.02952837e-01],\n",
       "       [ 9.98854185e-02,  2.59937386e-01, -5.79351641e-02],\n",
       "       [-6.39998082e-01, -1.70928229e-02,  4.94836150e-01],\n",
       "       [-4.69120330e-01,  2.75429016e-01,  8.05866021e-04],\n",
       "       [ 2.02705172e-01,  4.83946108e-01, -3.81268364e-01],\n",
       "       [-8.99123133e-02,  3.95675558e-01, -5.63494977e-01],\n",
       "       [ 3.11108601e-01,  3.29653234e-01, -3.34251113e-02],\n",
       "       [-2.51652085e-01,  1.29972579e-01, -2.84311937e-01],\n",
       "       [-9.27486002e-02,  2.49298126e-01,  4.66493689e-01],\n",
       "       [-2.17614257e-01,  7.12610715e-01, -1.58344827e-01],\n",
       "       [-2.63401022e-01,  2.92018107e-01, -9.47761875e-02],\n",
       "       [ 5.33856653e-02,  5.59147696e-01,  1.30354330e-01],\n",
       "       [ 5.85198201e-01,  4.56721969e-02,  1.96381804e-01],\n",
       "       [-2.54768255e-01,  3.66140480e-01,  5.54948934e-02],\n",
       "       [-2.19096738e-01,  4.50689363e-01, -1.28756648e-01],\n",
       "       [ 1.63757379e-01,  5.02210724e-01,  4.75146004e-02],\n",
       "       [ 4.47939402e-02,  5.70851428e-01,  3.43977493e-01],\n",
       "       [ 2.01112363e-01,  4.37270151e-01,  1.57373928e-01],\n",
       "       [ 3.05763374e-02,  6.27391110e-01,  1.11676515e-01],\n",
       "       [ 2.89062178e-01,  4.90212432e-01, -4.18357652e-02],\n",
       "       [ 2.98430969e-01,  4.47281923e-01,  8.83240019e-02],\n",
       "       [ 4.17384340e-01,  3.76886744e-01, -6.05334064e-02],\n",
       "       [-2.07147525e-01,  5.07530664e-01,  8.06686821e-02],\n",
       "       [-2.44654442e-01,  4.70800261e-01, -1.85789673e-02],\n",
       "       [-4.56839124e-01,  7.10408859e-02,  6.06956437e-02],\n",
       "       [ 8.75772063e-02,  1.44814598e-01,  1.23505242e-01],\n",
       "       [-2.37955680e-01,  5.16978453e-01, -2.47778511e-01],\n",
       "       [-5.04000207e-01,  2.59557192e-01, -8.48041148e-02],\n",
       "       [-2.81363638e-01,  4.41679986e-01,  2.49749105e-01],\n",
       "       [-1.97154346e-01,  4.46197863e-01, -3.24879323e-01],\n",
       "       [ 6.66892317e-02,  4.93311140e-01, -3.58984101e-01],\n",
       "       [-3.46792970e-02,  3.15719106e-01,  2.33929684e-01],\n",
       "       [ 1.10011916e-01,  5.80593908e-01, -1.71389306e-01],\n",
       "       [-1.68482052e-01,  4.54585064e-01, -8.93250921e-02],\n",
       "       [ 3.31525847e-01,  4.47626180e-01,  2.72854642e-01],\n",
       "       [ 1.97986526e-02,  4.78151341e-01, -1.01883114e-01],\n",
       "       [ 3.20069316e-01,  3.38802482e-01,  2.23389100e-02],\n",
       "       [-7.47348237e-02,  5.11476255e-01, -7.91035251e-02],\n",
       "       [-4.06041953e-01,  3.62169536e-01,  3.14597462e-01],\n",
       "       [-2.59280810e-01,  2.77533880e-01,  1.56856819e-01],\n",
       "       [ 1.31453211e-02,  4.48916067e-01,  2.15876669e-02],\n",
       "       [ 3.04789879e-01,  2.27554528e-01,  3.58388647e-01],\n",
       "       [ 7.37352536e-02,  5.26243669e-01,  7.46853126e-02],\n",
       "       [ 3.49200806e-02,  4.87380419e-01,  2.15506690e-01],\n",
       "       [-1.01843574e-01,  8.07643002e-01,  1.92519519e-01],\n",
       "       [-4.09460235e-02,  6.34030162e-01, -8.92733907e-02],\n",
       "       [-3.21385474e-02,  4.57278380e-01,  8.59961805e-02],\n",
       "       [ 5.39755923e-01,  2.81764187e-01, -2.86149509e-01],\n",
       "       [ 7.50174314e-02,  4.98231070e-01,  3.83405366e-02],\n",
       "       [-2.24009314e-01,  3.36099511e-01,  2.67940324e-01],\n",
       "       [-3.52338908e-01,  5.72075862e-02,  9.56571057e-01],\n",
       "       [ 2.12019499e-01,  2.42519883e-01,  7.05992263e-01],\n",
       "       [ 5.26477464e-02,  1.75533907e-01,  3.30687804e-01],\n",
       "       [-2.81985966e-01,  3.39351133e-01,  4.88433516e-01],\n",
       "       [-4.59060066e-02,  4.88630632e-01,  1.20373672e-01],\n",
       "       [-5.45596506e-02,  3.08723890e-01,  1.44275131e-01],\n",
       "       [ 3.05891965e-01,  3.55651863e-01,  5.94691348e-01],\n",
       "       [ 4.35737947e-02,  4.78039916e-01,  2.28283449e-01],\n",
       "       [ 3.69603891e-01,  2.95015644e-01,  2.68224448e-01],\n",
       "       [ 3.17133922e-01, -2.28616447e-02, -3.89579182e-01],\n",
       "       [ 5.49562991e-01, -6.97795067e-02, -2.06040878e-01],\n",
       "       [ 6.42301571e-01, -2.90968503e-02, -1.49756556e-01],\n",
       "       [ 5.02536169e-01, -7.95707672e-02, -1.42763943e-01],\n",
       "       [ 5.49987822e-01,  1.08280187e-01, -2.74709362e-01],\n",
       "       [ 7.18173745e-01, -8.53983676e-02, -2.14441311e-01],\n",
       "       [ 9.08428523e-01,  1.34547307e-02,  1.06972897e-01],\n",
       "       [ 8.97253428e-01, -7.45421842e-02,  4.57651056e-01],\n",
       "       [ 7.18092878e-01, -6.80982251e-02, -1.28554149e-01],\n",
       "       [ 5.22740255e-01, -5.78129299e-03,  2.36171072e-01],\n",
       "       [ 5.97992019e-01,  1.61131136e-02,  1.16622943e-01],\n",
       "       [ 4.71364682e-01, -5.25529468e-02, -2.04349458e-01],\n",
       "       [ 6.56501775e-01, -2.51255991e-02,  1.67788294e-01],\n",
       "       [ 5.64238824e-01, -8.62548558e-02,  9.02392160e-02],\n",
       "       [ 5.08453894e-01, -2.93844244e-01, -2.07166403e-01],\n",
       "       [ 5.92697813e-01, -9.83448527e-02, -1.15898670e-01],\n",
       "       [ 9.80197129e-01, -1.13634204e-01, -1.73309235e-01],\n",
       "       [ 8.10692086e-01, -2.58737205e-01,  8.39845279e-02],\n",
       "       [ 6.49274899e-01, -3.44092089e-01, -5.87875096e-02],\n",
       "       [ 6.96275921e-01, -4.68292698e-01, -7.72157314e-02],\n",
       "       [ 5.49740875e-01, -5.00738019e-01,  1.90181567e-02],\n",
       "       [ 5.86052807e-01, -4.60133516e-01, -1.23915689e-01],\n",
       "       [ 4.12435329e-01, -2.87831178e-01,  1.44709001e-01],\n",
       "       [ 6.83054851e-01, -5.06591628e-01, -9.96696945e-02],\n",
       "       [ 6.17325906e-01, -9.82755082e-02, -3.01922030e-01],\n",
       "       [ 8.62244759e-01, -3.97934416e-01,  1.51083573e-01],\n",
       "       [ 6.93504561e-01, -4.31684869e-01, -3.70301035e-02],\n",
       "       [ 7.56934327e-01, -2.41767195e-01,  3.03575115e-01],\n",
       "       [ 2.39917150e-01, -6.41504922e-01,  2.62172259e-01],\n",
       "       [ 3.76118663e-01, -4.76399753e-01,  1.06977758e-01],\n",
       "       [ 7.28359364e-01, -1.58694509e-01,  5.25072839e-02],\n",
       "       [ 5.41599111e-01, -2.33136630e-01, -1.61589900e-02],\n",
       "       [ 6.44505677e-01, -6.99317288e-02,  1.81944741e-01],\n",
       "       [ 5.98591556e-01, -1.32111952e-01, -1.51017888e-01],\n",
       "       [ 6.75284810e-01, -3.62255323e-01, -2.15725741e-01],\n",
       "       [ 8.11092808e-01, -1.83318469e-01,  2.16575723e-03],\n",
       "       [ 5.97954020e-01, -5.94043087e-01,  8.95132718e-02],\n",
       "       [ 6.81385425e-01, -3.27089712e-01, -2.27230307e-01],\n",
       "       [ 4.97030589e-01, -4.34285695e-01,  9.50942783e-02],\n",
       "       [ 5.47824663e-01, -5.32910226e-01,  3.15658876e-01],\n",
       "       [ 7.06255117e-01,  7.80254253e-02, -1.78839175e-01],\n",
       "       [ 8.29899181e-01, -2.03439059e-01, -2.94528307e-01],\n",
       "       [ 5.80199170e-01, -4.86831602e-01, -1.86768182e-01],\n",
       "       [ 7.86732218e-01, -4.62235216e-01,  8.72256215e-02],\n",
       "       [ 6.15840366e-01, -3.75012265e-01,  8.28604924e-02],\n",
       "       [ 6.60608901e-01, -6.46822226e-01, -1.03811353e-01],\n",
       "       [ 5.78141438e-01, -5.14181859e-01, -1.08412804e-01],\n",
       "       [ 7.60405592e-01, -5.70393416e-01,  2.80734343e-01]])"
      ]
     },
     "execution_count": 36,
     "metadata": {},
     "output_type": "execute_result"
    }
   ],
   "source": [
    "# PCA scores\n",
    "pca_values"
   ]
  },
  {
   "cell_type": "code",
   "execution_count": 37,
   "id": "eb75dff3",
   "metadata": {},
   "outputs": [],
   "source": [
    "#pca for feature extraction\n",
    "pca_data = pd.DataFrame(pca_values)\n",
    "pca_data.columns = \"comp0\", \"comp1\", \"comp2\"\n",
    "final = pd.concat([wine.Type, pca_data.iloc[:, 0:3]], axis = 1)"
   ]
  },
  {
   "cell_type": "code",
   "execution_count": 38,
   "id": "1d5580d9",
   "metadata": {},
   "outputs": [
    {
     "data": {
      "text/plain": [
       "<matplotlib.collections.PathCollection at 0x1b757a02e20>"
      ]
     },
     "execution_count": 38,
     "metadata": {},
     "output_type": "execute_result"
    },
    {
     "data": {
      "image/png": "[encoded data removed]",
      "text/plain": [
       "<Figure size 640x480 with 1 Axes>"
      ]
     },
     "metadata": {},
     "output_type": "display_data"
    }
   ],
   "source": [
    "# Scatter diagram\n",
    "plt.scatter(x = final.comp2, y = final.comp1)"
   ]
  },
  {
   "cell_type": "code",
   "execution_count": 40,
   "id": "f544fcc9",
   "metadata": {},
   "outputs": [
    {
     "data": {
      "text/plain": [
       "<AxesSubplot: xlabel='comp1'>"
      ]
     },
     "execution_count": 40,
     "metadata": {},
     "output_type": "execute_result"
    },
    {
     "data": {
      "image/png": "[encoded data removed]",
      "text/plain": [
       "<Figure size 640x480 with 1 Axes>"
      ]
     },
     "metadata": {},
     "output_type": "display_data"
    }
   ],
   "source": [
    "sns.boxplot(final.comp1)"
   ]
  },
  {
   "cell_type": "code",
   "execution_count": 41,
   "id": "4eb5c9ed",
   "metadata": {},
   "outputs": [
    {
     "data": {
      "text/plain": [
       "<AxesSubplot: xlabel='comp2'>"
      ]
     },
     "execution_count": 41,
     "metadata": {},
     "output_type": "execute_result"
    },
    {
     "data": {
      "image/png": "[encoded data removed]",
      "text/plain": [
       "<Figure size 640x480 with 1 Axes>"
      ]
     },
     "metadata": {},
     "output_type": "display_data"
    }
   ],
   "source": [
    "sns.boxplot(final.comp2)"
   ]
  },
  {
   "cell_type": "code",
   "execution_count": 43,
   "id": "34d3ae1a",
   "metadata": {},
   "outputs": [
    {
     "data": {
      "text/plain": [
       "<AxesSubplot: xlabel='comp0'>"
      ]
     },
     "execution_count": 43,
     "metadata": {},
     "output_type": "execute_result"
    },
    {
     "data": {
      "image/png": "[encoded data removed]",
      "text/plain": [
       "<Figure size 640x480 with 1 Axes>"
      ]
     },
     "metadata": {},
     "output_type": "display_data"
    }
   ],
   "source": [
    "sns.boxplot(final.comp0)"
   ]
  },
  {
   "cell_type": "code",
   "execution_count": 45,
   "id": "3dbc9a90",
   "metadata": {},
   "outputs": [],
   "source": [
    "winsor = Winsorizer(capping_method='iqr',tail='both',fold=1.5,variables='comp2')\n",
    "final[\"comp2\"] = winsor.fit_transform(final[[\"comp2\"]])"
   ]
  },
  {
   "cell_type": "code",
   "execution_count": 46,
   "id": "4f1bcc08",
   "metadata": {},
   "outputs": [
    {
     "data": {
      "text/plain": [
       "<AxesSubplot: xlabel='comp2'>"
      ]
     },
     "execution_count": 46,
     "metadata": {},
     "output_type": "execute_result"
    },
    {
     "data": {
      "image/png": "[encoded data removed]",
      "text/plain": [
       "<Figure size 640x480 with 1 Axes>"
      ]
     },
     "metadata": {},
     "output_type": "display_data"
    }
   ],
   "source": [
    "sns.boxplot(final.comp2)"
   ]
  },
  {
   "cell_type": "code",
   "execution_count": 52,
   "id": "4f35f981",
   "metadata": {},
   "outputs": [],
   "source": [
    "#clustering model building\n",
    "from scipy.cluster.hierarchy import linkage,dendrogram\n",
    "from sklearn.cluster import AgglomerativeClustering,KMeans"
   ]
  },
  {
   "cell_type": "code",
   "execution_count": 48,
   "id": "9dc1e440",
   "metadata": {},
   "outputs": [
    {
     "data": {
      "image/png": "[encoded data removed]",
      "text/plain": [
       "<Figure size 2500x1000 with 1 Axes>"
      ]
     },
     "metadata": {},
     "output_type": "display_data"
    }
   ],
   "source": [
    "plt.figure(1, figsize = (25, 10))\n",
    "tree_plot = dendrogram(linkage(df_norm, method  = \"ward\"))\n",
    "\n",
    "plt.title('Hierarchical Clustering Dendrogram')\n",
    "plt.xlabel('Index')\n",
    "plt.ylabel('Euclidean distances')\n",
    "plt.show()"
   ]
  },
  {
   "cell_type": "code",
   "execution_count": 53,
   "id": "1151601f",
   "metadata": {},
   "outputs": [
    {
     "data": {
      "text/plain": [
       "[77.451536075082,\n",
       " 58.921471292501465,\n",
       " 54.23063512042246,\n",
       " 51.34791830175855,\n",
       " 48.428364422833155,\n",
       " 45.453049418712794,\n",
       " 43.30787631174271]"
      ]
     },
     "execution_count": 53,
     "metadata": {},
     "output_type": "execute_result"
    }
   ],
   "source": [
    "#kmeans\n",
    "###### scree plot or elbow curve ############\n",
    "TWSS = []\n",
    "k = list(range(2, 9))\n",
    "\n",
    "for i in k:\n",
    "    kmeans = KMeans(n_clusters = i)\n",
    "    kmeans.fit(df_norm)\n",
    "    TWSS.append(kmeans.inertia_)\n",
    "    \n",
    "TWSS"
   ]
  },
  {
   "cell_type": "code",
   "execution_count": 54,
   "id": "8098941f",
   "metadata": {},
   "outputs": [
    {
     "data": {
      "text/plain": [
       "Text(0, 0.5, 'total_within_SS')"
      ]
     },
     "execution_count": 54,
     "metadata": {},
     "output_type": "execute_result"
    },
    {
     "data": {
      "image/png": "[encoded data removed]",
      "text/plain": [
       "<Figure size 640x480 with 1 Axes>"
      ]
     },
     "metadata": {},
     "output_type": "display_data"
    }
   ],
   "source": [
    "# Scree plot \n",
    "plt.plot(k, TWSS, 'ro-');plt.xlabel(\"No_of_Clusters\");plt.ylabel(\"total_within_SS\")"
   ]
  },
  {
   "cell_type": "code",
   "execution_count": 55,
   "id": "10bb6fa4",
   "metadata": {},
   "outputs": [
    {
     "data": {
      "text/plain": [
       "KMeans(n_clusters=3)"
      ]
     },
     "execution_count": 55,
     "metadata": {},
     "output_type": "execute_result"
    }
   ],
   "source": [
    "# Selecting 5 clusters from the above scree plot which is the optimum number of clusters \n",
    "model = KMeans(n_clusters = 3)\n",
    "model.fit(wine)"
   ]
  },
  {
   "cell_type": "code",
   "execution_count": 56,
   "id": "129273af",
   "metadata": {},
   "outputs": [
    {
     "data": {
      "text/plain": [
       "array([1, 1, 1, 1, 1, 1, 1, 1, 1, 1, 1, 1, 1, 1, 1, 1, 1, 1, 1, 1, 1, 1,\n",
       "       1, 1, 1, 1, 1, 1, 1, 1, 1, 1, 1, 1, 1, 1, 1, 1, 1, 1, 1, 1, 1, 1,\n",
       "       1, 1, 1, 1, 1, 1, 1, 1, 1, 1, 1, 1, 1, 1, 1, 2, 2, 0, 2, 2, 2, 2,\n",
       "       2, 2, 2, 2, 2, 2, 2, 1, 2, 2, 2, 2, 2, 2, 2, 2, 2, 0, 2, 2, 2, 2,\n",
       "       2, 2, 2, 2, 2, 2, 2, 1, 2, 2, 2, 2, 2, 2, 2, 2, 2, 2, 2, 2, 2, 2,\n",
       "       2, 2, 2, 2, 2, 2, 2, 2, 0, 2, 2, 1, 2, 2, 2, 2, 2, 2, 2, 2, 0, 0,\n",
       "       0, 0, 0, 0, 0, 0, 0, 0, 0, 0, 0, 0, 0, 0, 0, 0, 0, 0, 0, 0, 0, 0,\n",
       "       0, 0, 0, 0, 0, 0, 0, 0, 0, 0, 0, 0, 0, 0, 0, 0, 0, 0, 0, 0, 0, 0,\n",
       "       0, 0])"
      ]
     },
     "execution_count": 56,
     "metadata": {},
     "output_type": "execute_result"
    }
   ],
   "source": [
    "model.labels_ # getting the labels of clusters assigned to each row \n"
   ]
  },
  {
   "cell_type": "code",
   "execution_count": 57,
   "id": "53e27d82",
   "metadata": {},
   "outputs": [],
   "source": [
    "mb = pd.Series(model.labels_)  # converting numpy array into pandas series object "
   ]
  },
  {
   "cell_type": "code",
   "execution_count": 58,
   "id": "7a8e211a",
   "metadata": {},
   "outputs": [],
   "source": [
    "final['clust'] = mb # creating a  new column and assigning it to new column "
   ]
  },
  {
   "cell_type": "code",
   "execution_count": 59,
   "id": "e4252b60",
   "metadata": {},
   "outputs": [
    {
     "data": {
      "text/html": [
       "<div>\n",
       "<style scoped>\n",
       "    .dataframe tbody tr th:only-of-type {\n",
       "        vertical-align: middle;\n",
       "    }\n",
       "\n",
       "    .dataframe tbody tr th {\n",
       "        vertical-align: top;\n",
       "    }\n",
       "\n",
       "    .dataframe thead th {\n",
       "        text-align: right;\n",
       "    }\n",
       "</style>\n",
       "<table border=\"1\" class=\"dataframe\">\n",
       "  <thead>\n",
       "    <tr style=\"text-align: right;\">\n",
       "      <th></th>\n",
       "      <th>clust</th>\n",
       "      <th>Type</th>\n",
       "      <th>comp0</th>\n",
       "      <th>comp1</th>\n",
       "      <th>comp2</th>\n",
       "    </tr>\n",
       "  </thead>\n",
       "  <tbody>\n",
       "    <tr>\n",
       "      <th>0</th>\n",
       "      <td>1</td>\n",
       "      <td>1</td>\n",
       "      <td>-0.742378</td>\n",
       "      <td>-0.334163</td>\n",
       "      <td>0.020734</td>\n",
       "    </tr>\n",
       "    <tr>\n",
       "      <th>1</th>\n",
       "      <td>1</td>\n",
       "      <td>1</td>\n",
       "      <td>-0.488848</td>\n",
       "      <td>0.022596</td>\n",
       "      <td>-0.370533</td>\n",
       "    </tr>\n",
       "    <tr>\n",
       "      <th>2</th>\n",
       "      <td>1</td>\n",
       "      <td>1</td>\n",
       "      <td>-0.547607</td>\n",
       "      <td>-0.244359</td>\n",
       "      <td>0.236458</td>\n",
       "    </tr>\n",
       "    <tr>\n",
       "      <th>3</th>\n",
       "      <td>1</td>\n",
       "      <td>1</td>\n",
       "      <td>-0.809298</td>\n",
       "      <td>-0.656370</td>\n",
       "      <td>0.026831</td>\n",
       "    </tr>\n",
       "    <tr>\n",
       "      <th>4</th>\n",
       "      <td>1</td>\n",
       "      <td>1</td>\n",
       "      <td>-0.215145</td>\n",
       "      <td>-0.140491</td>\n",
       "      <td>0.412441</td>\n",
       "    </tr>\n",
       "  </tbody>\n",
       "</table>\n",
       "</div>"
      ],
      "text/plain": [
       "   clust  Type     comp0     comp1     comp2\n",
       "0      1     1 -0.742378 -0.334163  0.020734\n",
       "1      1     1 -0.488848  0.022596 -0.370533\n",
       "2      1     1 -0.547607 -0.244359  0.236458\n",
       "3      1     1 -0.809298 -0.656370  0.026831\n",
       "4      1     1 -0.215145 -0.140491  0.412441"
      ]
     },
     "execution_count": 59,
     "metadata": {},
     "output_type": "execute_result"
    }
   ],
   "source": [
    "final = final.iloc[:,[4,0,1,2,3]]\n",
    "final.head()"
   ]
  },
  {
   "cell_type": "code",
   "execution_count": 60,
   "id": "29665b79",
   "metadata": {},
   "outputs": [
    {
     "data": {
      "text/plain": [
       "0      0\n",
       "1      0\n",
       "2      0\n",
       "3      0\n",
       "4      0\n",
       "      ..\n",
       "173    1\n",
       "174    1\n",
       "175    1\n",
       "176    1\n",
       "177    1\n",
       "Name: Type, Length: 178, dtype: int64"
      ]
     },
     "execution_count": 60,
     "metadata": {},
     "output_type": "execute_result"
    }
   ],
   "source": [
    "final['Type'].replace({1:0 ,2:2 ,3:1})"
   ]
  },
  {
   "cell_type": "code",
   "execution_count": null,
   "id": "e570f6fa",
   "metadata": {},
   "outputs": [],
   "source": []
  },
  {
   "cell_type": "code",
   "execution_count": null,
   "id": "602cd613",
   "metadata": {},
   "outputs": [],
   "source": []
  },
  {
   "cell_type": "markdown",
   "id": "9a94b8a4",
   "metadata": {},
   "source": [
    "# problem - 2"
   ]
  },
  {
   "cell_type": "markdown",
   "id": "a7bf5f7d",
   "metadata": {},
   "source": [
    "### 2.\tA pharmaceuticals manufacturing company is conducting a study on a new medicine to treat heart diseases. The company has gathered data from its secondary sources and would like you to provide high level analytical insights on the data. Its aim is to segregate patients depending on their age group and other factors given in the data. Perform PCA and clustering algorithms on the dataset and check if the clusters formed before and after PCA are the same and provide a brief report on your model. You can also explore more ways to improve your model. "
   ]
  },
  {
   "cell_type": "code",
   "execution_count": 50,
   "id": "9d4d5f5a",
   "metadata": {},
   "outputs": [],
   "source": [
    "#importing required libraries\n",
    "\n",
    "import numpy as np\n",
    "import pandas as pd\n",
    "import matplotlib.pyplot as plt\n",
    "import seaborn as sns"
   ]
  },
  {
   "cell_type": "code",
   "execution_count": 51,
   "id": "24474eeb",
   "metadata": {},
   "outputs": [],
   "source": [
    "import warnings\n",
    "warnings.filterwarnings('ignore')"
   ]
  },
  {
   "cell_type": "code",
   "execution_count": 52,
   "id": "7481cf1f",
   "metadata": {},
   "outputs": [],
   "source": [
    "#setting present working directory\n",
    "import os\n",
    "os.chdir(r\"D:\\360 Data Science 360DigiTMG\\Day14-Datasets_PCA_Problem Statement\")"
   ]
  },
  {
   "cell_type": "code",
   "execution_count": 53,
   "id": "bfb41f0b",
   "metadata": {},
   "outputs": [],
   "source": [
    "#reading the data into python\n",
    "df = pd.read_csv('heart disease.csv')"
   ]
  },
  {
   "cell_type": "code",
   "execution_count": 54,
   "id": "8e5d5917",
   "metadata": {},
   "outputs": [
    {
     "data": {
      "text/html": [
       "<div>\n",
       "<style scoped>\n",
       "    .dataframe tbody tr th:only-of-type {\n",
       "        vertical-align: middle;\n",
       "    }\n",
       "\n",
       "    .dataframe tbody tr th {\n",
       "        vertical-align: top;\n",
       "    }\n",
       "\n",
       "    .dataframe thead th {\n",
       "        text-align: right;\n",
       "    }\n",
       "</style>\n",
       "<table border=\"1\" class=\"dataframe\">\n",
       "  <thead>\n",
       "    <tr style=\"text-align: right;\">\n",
       "      <th></th>\n",
       "      <th>age</th>\n",
       "      <th>sex</th>\n",
       "      <th>cp</th>\n",
       "      <th>trestbps</th>\n",
       "      <th>chol</th>\n",
       "      <th>fbs</th>\n",
       "      <th>restecg</th>\n",
       "      <th>thalach</th>\n",
       "      <th>exang</th>\n",
       "      <th>oldpeak</th>\n",
       "      <th>slope</th>\n",
       "      <th>ca</th>\n",
       "      <th>thal</th>\n",
       "      <th>target</th>\n",
       "    </tr>\n",
       "  </thead>\n",
       "  <tbody>\n",
       "    <tr>\n",
       "      <th>0</th>\n",
       "      <td>63</td>\n",
       "      <td>1</td>\n",
       "      <td>3</td>\n",
       "      <td>145</td>\n",
       "      <td>233</td>\n",
       "      <td>1</td>\n",
       "      <td>0</td>\n",
       "      <td>150</td>\n",
       "      <td>0</td>\n",
       "      <td>2.3</td>\n",
       "      <td>0</td>\n",
       "      <td>0</td>\n",
       "      <td>1</td>\n",
       "      <td>1</td>\n",
       "    </tr>\n",
       "    <tr>\n",
       "      <th>1</th>\n",
       "      <td>37</td>\n",
       "      <td>1</td>\n",
       "      <td>2</td>\n",
       "      <td>130</td>\n",
       "      <td>250</td>\n",
       "      <td>0</td>\n",
       "      <td>1</td>\n",
       "      <td>187</td>\n",
       "      <td>0</td>\n",
       "      <td>3.5</td>\n",
       "      <td>0</td>\n",
       "      <td>0</td>\n",
       "      <td>2</td>\n",
       "      <td>1</td>\n",
       "    </tr>\n",
       "    <tr>\n",
       "      <th>2</th>\n",
       "      <td>41</td>\n",
       "      <td>0</td>\n",
       "      <td>1</td>\n",
       "      <td>130</td>\n",
       "      <td>204</td>\n",
       "      <td>0</td>\n",
       "      <td>0</td>\n",
       "      <td>172</td>\n",
       "      <td>0</td>\n",
       "      <td>1.4</td>\n",
       "      <td>2</td>\n",
       "      <td>0</td>\n",
       "      <td>2</td>\n",
       "      <td>1</td>\n",
       "    </tr>\n",
       "    <tr>\n",
       "      <th>3</th>\n",
       "      <td>56</td>\n",
       "      <td>1</td>\n",
       "      <td>1</td>\n",
       "      <td>120</td>\n",
       "      <td>236</td>\n",
       "      <td>0</td>\n",
       "      <td>1</td>\n",
       "      <td>178</td>\n",
       "      <td>0</td>\n",
       "      <td>0.8</td>\n",
       "      <td>2</td>\n",
       "      <td>0</td>\n",
       "      <td>2</td>\n",
       "      <td>1</td>\n",
       "    </tr>\n",
       "    <tr>\n",
       "      <th>4</th>\n",
       "      <td>57</td>\n",
       "      <td>0</td>\n",
       "      <td>0</td>\n",
       "      <td>120</td>\n",
       "      <td>354</td>\n",
       "      <td>0</td>\n",
       "      <td>1</td>\n",
       "      <td>163</td>\n",
       "      <td>1</td>\n",
       "      <td>0.6</td>\n",
       "      <td>2</td>\n",
       "      <td>0</td>\n",
       "      <td>2</td>\n",
       "      <td>1</td>\n",
       "    </tr>\n",
       "  </tbody>\n",
       "</table>\n",
       "</div>"
      ],
      "text/plain": [
       "   age  sex  cp  trestbps  chol  fbs  restecg  thalach  exang  oldpeak  slope  \\\n",
       "0   63    1   3       145   233    1        0      150      0      2.3      0   \n",
       "1   37    1   2       130   250    0        1      187      0      3.5      0   \n",
       "2   41    0   1       130   204    0        0      172      0      1.4      2   \n",
       "3   56    1   1       120   236    0        1      178      0      0.8      2   \n",
       "4   57    0   0       120   354    0        1      163      1      0.6      2   \n",
       "\n",
       "   ca  thal  target  \n",
       "0   0     1       1  \n",
       "1   0     2       1  \n",
       "2   0     2       1  \n",
       "3   0     2       1  \n",
       "4   0     2       1  "
      ]
     },
     "execution_count": 54,
     "metadata": {},
     "output_type": "execute_result"
    }
   ],
   "source": [
    "df.head()"
   ]
  },
  {
   "cell_type": "code",
   "execution_count": 55,
   "id": "98245ec6",
   "metadata": {},
   "outputs": [
    {
     "data": {
      "text/plain": [
       "(303, 14)"
      ]
     },
     "execution_count": 55,
     "metadata": {},
     "output_type": "execute_result"
    }
   ],
   "source": [
    "#shape of the data\n",
    "df.shape"
   ]
  },
  {
   "cell_type": "code",
   "execution_count": 56,
   "id": "d8881e46",
   "metadata": {},
   "outputs": [
    {
     "name": "stdout",
     "output_type": "stream",
     "text": [
      "<class 'pandas.core.frame.DataFrame'>\n",
      "RangeIndex: 303 entries, 0 to 302\n",
      "Data columns (total 14 columns):\n",
      " #   Column    Non-Null Count  Dtype  \n",
      "---  ------    --------------  -----  \n",
      " 0   age       303 non-null    int64  \n",
      " 1   sex       303 non-null    int64  \n",
      " 2   cp        303 non-null    int64  \n",
      " 3   trestbps  303 non-null    int64  \n",
      " 4   chol      303 non-null    int64  \n",
      " 5   fbs       303 non-null    int64  \n",
      " 6   restecg   303 non-null    int64  \n",
      " 7   thalach   303 non-null    int64  \n",
      " 8   exang     303 non-null    int64  \n",
      " 9   oldpeak   303 non-null    float64\n",
      " 10  slope     303 non-null    int64  \n",
      " 11  ca        303 non-null    int64  \n",
      " 12  thal      303 non-null    int64  \n",
      " 13  target    303 non-null    int64  \n",
      "dtypes: float64(1), int64(13)\n",
      "memory usage: 33.3 KB\n"
     ]
    }
   ],
   "source": [
    "df.info()"
   ]
  },
  {
   "cell_type": "code",
   "execution_count": 57,
   "id": "c737bf79",
   "metadata": {},
   "outputs": [
    {
     "data": {
      "text/plain": [
       "age         0\n",
       "sex         0\n",
       "cp          0\n",
       "trestbps    0\n",
       "chol        0\n",
       "fbs         0\n",
       "restecg     0\n",
       "thalach     0\n",
       "exang       0\n",
       "oldpeak     0\n",
       "slope       0\n",
       "ca          0\n",
       "thal        0\n",
       "target      0\n",
       "dtype: int64"
      ]
     },
     "execution_count": 57,
     "metadata": {},
     "output_type": "execute_result"
    }
   ],
   "source": [
    "df.isnull().sum()"
   ]
  },
  {
   "cell_type": "code",
   "execution_count": 58,
   "id": "42ff2a3d",
   "metadata": {},
   "outputs": [
    {
     "data": {
      "text/plain": [
       "1"
      ]
     },
     "execution_count": 58,
     "metadata": {},
     "output_type": "execute_result"
    }
   ],
   "source": [
    "dup = df.duplicated()\n",
    "sum(dup)"
   ]
  },
  {
   "cell_type": "code",
   "execution_count": 59,
   "id": "7efa8e11",
   "metadata": {},
   "outputs": [],
   "source": [
    "df=df.drop_duplicates()"
   ]
  },
  {
   "cell_type": "code",
   "execution_count": 60,
   "id": "7a9d4965",
   "metadata": {},
   "outputs": [
    {
     "data": {
      "text/plain": [
       "0"
      ]
     },
     "execution_count": 60,
     "metadata": {},
     "output_type": "execute_result"
    }
   ],
   "source": [
    "dup = df.duplicated()\n",
    "sum(dup)"
   ]
  },
  {
   "cell_type": "code",
   "execution_count": 61,
   "id": "d268a4c6",
   "metadata": {},
   "outputs": [],
   "source": [
    "df1=df.drop(['target'],axis=1)"
   ]
  },
  {
   "cell_type": "code",
   "execution_count": 62,
   "id": "53158a15",
   "metadata": {},
   "outputs": [
    {
     "data": {
      "text/html": [
       "<div>\n",
       "<style scoped>\n",
       "    .dataframe tbody tr th:only-of-type {\n",
       "        vertical-align: middle;\n",
       "    }\n",
       "\n",
       "    .dataframe tbody tr th {\n",
       "        vertical-align: top;\n",
       "    }\n",
       "\n",
       "    .dataframe thead th {\n",
       "        text-align: right;\n",
       "    }\n",
       "</style>\n",
       "<table border=\"1\" class=\"dataframe\">\n",
       "  <thead>\n",
       "    <tr style=\"text-align: right;\">\n",
       "      <th></th>\n",
       "      <th>age</th>\n",
       "      <th>sex</th>\n",
       "      <th>cp</th>\n",
       "      <th>trestbps</th>\n",
       "      <th>chol</th>\n",
       "      <th>fbs</th>\n",
       "      <th>restecg</th>\n",
       "      <th>thalach</th>\n",
       "      <th>exang</th>\n",
       "      <th>oldpeak</th>\n",
       "      <th>slope</th>\n",
       "      <th>ca</th>\n",
       "      <th>thal</th>\n",
       "    </tr>\n",
       "  </thead>\n",
       "  <tbody>\n",
       "    <tr>\n",
       "      <th>0</th>\n",
       "      <td>63</td>\n",
       "      <td>1</td>\n",
       "      <td>3</td>\n",
       "      <td>145</td>\n",
       "      <td>233</td>\n",
       "      <td>1</td>\n",
       "      <td>0</td>\n",
       "      <td>150</td>\n",
       "      <td>0</td>\n",
       "      <td>2.3</td>\n",
       "      <td>0</td>\n",
       "      <td>0</td>\n",
       "      <td>1</td>\n",
       "    </tr>\n",
       "    <tr>\n",
       "      <th>1</th>\n",
       "      <td>37</td>\n",
       "      <td>1</td>\n",
       "      <td>2</td>\n",
       "      <td>130</td>\n",
       "      <td>250</td>\n",
       "      <td>0</td>\n",
       "      <td>1</td>\n",
       "      <td>187</td>\n",
       "      <td>0</td>\n",
       "      <td>3.5</td>\n",
       "      <td>0</td>\n",
       "      <td>0</td>\n",
       "      <td>2</td>\n",
       "    </tr>\n",
       "    <tr>\n",
       "      <th>2</th>\n",
       "      <td>41</td>\n",
       "      <td>0</td>\n",
       "      <td>1</td>\n",
       "      <td>130</td>\n",
       "      <td>204</td>\n",
       "      <td>0</td>\n",
       "      <td>0</td>\n",
       "      <td>172</td>\n",
       "      <td>0</td>\n",
       "      <td>1.4</td>\n",
       "      <td>2</td>\n",
       "      <td>0</td>\n",
       "      <td>2</td>\n",
       "    </tr>\n",
       "    <tr>\n",
       "      <th>3</th>\n",
       "      <td>56</td>\n",
       "      <td>1</td>\n",
       "      <td>1</td>\n",
       "      <td>120</td>\n",
       "      <td>236</td>\n",
       "      <td>0</td>\n",
       "      <td>1</td>\n",
       "      <td>178</td>\n",
       "      <td>0</td>\n",
       "      <td>0.8</td>\n",
       "      <td>2</td>\n",
       "      <td>0</td>\n",
       "      <td>2</td>\n",
       "    </tr>\n",
       "    <tr>\n",
       "      <th>4</th>\n",
       "      <td>57</td>\n",
       "      <td>0</td>\n",
       "      <td>0</td>\n",
       "      <td>120</td>\n",
       "      <td>354</td>\n",
       "      <td>0</td>\n",
       "      <td>1</td>\n",
       "      <td>163</td>\n",
       "      <td>1</td>\n",
       "      <td>0.6</td>\n",
       "      <td>2</td>\n",
       "      <td>0</td>\n",
       "      <td>2</td>\n",
       "    </tr>\n",
       "  </tbody>\n",
       "</table>\n",
       "</div>"
      ],
      "text/plain": [
       "   age  sex  cp  trestbps  chol  fbs  restecg  thalach  exang  oldpeak  slope  \\\n",
       "0   63    1   3       145   233    1        0      150      0      2.3      0   \n",
       "1   37    1   2       130   250    0        1      187      0      3.5      0   \n",
       "2   41    0   1       130   204    0        0      172      0      1.4      2   \n",
       "3   56    1   1       120   236    0        1      178      0      0.8      2   \n",
       "4   57    0   0       120   354    0        1      163      1      0.6      2   \n",
       "\n",
       "   ca  thal  \n",
       "0   0     1  \n",
       "1   0     2  \n",
       "2   0     2  \n",
       "3   0     2  \n",
       "4   0     2  "
      ]
     },
     "execution_count": 62,
     "metadata": {},
     "output_type": "execute_result"
    }
   ],
   "source": [
    "df1.head()"
   ]
  },
  {
   "cell_type": "code",
   "execution_count": 63,
   "id": "d6cdcb65",
   "metadata": {},
   "outputs": [
    {
     "data": {
      "text/html": [
       "<div>\n",
       "<style scoped>\n",
       "    .dataframe tbody tr th:only-of-type {\n",
       "        vertical-align: middle;\n",
       "    }\n",
       "\n",
       "    .dataframe tbody tr th {\n",
       "        vertical-align: top;\n",
       "    }\n",
       "\n",
       "    .dataframe thead th {\n",
       "        text-align: right;\n",
       "    }\n",
       "</style>\n",
       "<table border=\"1\" class=\"dataframe\">\n",
       "  <thead>\n",
       "    <tr style=\"text-align: right;\">\n",
       "      <th></th>\n",
       "      <th>age</th>\n",
       "      <th>sex</th>\n",
       "      <th>cp</th>\n",
       "      <th>trestbps</th>\n",
       "      <th>chol</th>\n",
       "      <th>fbs</th>\n",
       "      <th>restecg</th>\n",
       "      <th>thalach</th>\n",
       "      <th>exang</th>\n",
       "      <th>oldpeak</th>\n",
       "      <th>slope</th>\n",
       "      <th>ca</th>\n",
       "      <th>thal</th>\n",
       "      <th>target</th>\n",
       "    </tr>\n",
       "  </thead>\n",
       "  <tbody>\n",
       "    <tr>\n",
       "      <th>count</th>\n",
       "      <td>302.00000</td>\n",
       "      <td>302.000000</td>\n",
       "      <td>302.000000</td>\n",
       "      <td>302.000000</td>\n",
       "      <td>302.000000</td>\n",
       "      <td>302.000000</td>\n",
       "      <td>302.000000</td>\n",
       "      <td>302.000000</td>\n",
       "      <td>302.000000</td>\n",
       "      <td>302.000000</td>\n",
       "      <td>302.000000</td>\n",
       "      <td>302.000000</td>\n",
       "      <td>302.000000</td>\n",
       "      <td>302.000000</td>\n",
       "    </tr>\n",
       "    <tr>\n",
       "      <th>mean</th>\n",
       "      <td>54.42053</td>\n",
       "      <td>0.682119</td>\n",
       "      <td>0.963576</td>\n",
       "      <td>131.602649</td>\n",
       "      <td>246.500000</td>\n",
       "      <td>0.149007</td>\n",
       "      <td>0.526490</td>\n",
       "      <td>149.569536</td>\n",
       "      <td>0.327815</td>\n",
       "      <td>1.043046</td>\n",
       "      <td>1.397351</td>\n",
       "      <td>0.718543</td>\n",
       "      <td>2.314570</td>\n",
       "      <td>0.543046</td>\n",
       "    </tr>\n",
       "    <tr>\n",
       "      <th>std</th>\n",
       "      <td>9.04797</td>\n",
       "      <td>0.466426</td>\n",
       "      <td>1.032044</td>\n",
       "      <td>17.563394</td>\n",
       "      <td>51.753489</td>\n",
       "      <td>0.356686</td>\n",
       "      <td>0.526027</td>\n",
       "      <td>22.903527</td>\n",
       "      <td>0.470196</td>\n",
       "      <td>1.161452</td>\n",
       "      <td>0.616274</td>\n",
       "      <td>1.006748</td>\n",
       "      <td>0.613026</td>\n",
       "      <td>0.498970</td>\n",
       "    </tr>\n",
       "    <tr>\n",
       "      <th>min</th>\n",
       "      <td>29.00000</td>\n",
       "      <td>0.000000</td>\n",
       "      <td>0.000000</td>\n",
       "      <td>94.000000</td>\n",
       "      <td>126.000000</td>\n",
       "      <td>0.000000</td>\n",
       "      <td>0.000000</td>\n",
       "      <td>71.000000</td>\n",
       "      <td>0.000000</td>\n",
       "      <td>0.000000</td>\n",
       "      <td>0.000000</td>\n",
       "      <td>0.000000</td>\n",
       "      <td>0.000000</td>\n",
       "      <td>0.000000</td>\n",
       "    </tr>\n",
       "    <tr>\n",
       "      <th>25%</th>\n",
       "      <td>48.00000</td>\n",
       "      <td>0.000000</td>\n",
       "      <td>0.000000</td>\n",
       "      <td>120.000000</td>\n",
       "      <td>211.000000</td>\n",
       "      <td>0.000000</td>\n",
       "      <td>0.000000</td>\n",
       "      <td>133.250000</td>\n",
       "      <td>0.000000</td>\n",
       "      <td>0.000000</td>\n",
       "      <td>1.000000</td>\n",
       "      <td>0.000000</td>\n",
       "      <td>2.000000</td>\n",
       "      <td>0.000000</td>\n",
       "    </tr>\n",
       "    <tr>\n",
       "      <th>50%</th>\n",
       "      <td>55.50000</td>\n",
       "      <td>1.000000</td>\n",
       "      <td>1.000000</td>\n",
       "      <td>130.000000</td>\n",
       "      <td>240.500000</td>\n",
       "      <td>0.000000</td>\n",
       "      <td>1.000000</td>\n",
       "      <td>152.500000</td>\n",
       "      <td>0.000000</td>\n",
       "      <td>0.800000</td>\n",
       "      <td>1.000000</td>\n",
       "      <td>0.000000</td>\n",
       "      <td>2.000000</td>\n",
       "      <td>1.000000</td>\n",
       "    </tr>\n",
       "    <tr>\n",
       "      <th>75%</th>\n",
       "      <td>61.00000</td>\n",
       "      <td>1.000000</td>\n",
       "      <td>2.000000</td>\n",
       "      <td>140.000000</td>\n",
       "      <td>274.750000</td>\n",
       "      <td>0.000000</td>\n",
       "      <td>1.000000</td>\n",
       "      <td>166.000000</td>\n",
       "      <td>1.000000</td>\n",
       "      <td>1.600000</td>\n",
       "      <td>2.000000</td>\n",
       "      <td>1.000000</td>\n",
       "      <td>3.000000</td>\n",
       "      <td>1.000000</td>\n",
       "    </tr>\n",
       "    <tr>\n",
       "      <th>max</th>\n",
       "      <td>77.00000</td>\n",
       "      <td>1.000000</td>\n",
       "      <td>3.000000</td>\n",
       "      <td>200.000000</td>\n",
       "      <td>564.000000</td>\n",
       "      <td>1.000000</td>\n",
       "      <td>2.000000</td>\n",
       "      <td>202.000000</td>\n",
       "      <td>1.000000</td>\n",
       "      <td>6.200000</td>\n",
       "      <td>2.000000</td>\n",
       "      <td>4.000000</td>\n",
       "      <td>3.000000</td>\n",
       "      <td>1.000000</td>\n",
       "    </tr>\n",
       "  </tbody>\n",
       "</table>\n",
       "</div>"
      ],
      "text/plain": [
       "             age         sex          cp    trestbps        chol         fbs  \\\n",
       "count  302.00000  302.000000  302.000000  302.000000  302.000000  302.000000   \n",
       "mean    54.42053    0.682119    0.963576  131.602649  246.500000    0.149007   \n",
       "std      9.04797    0.466426    1.032044   17.563394   51.753489    0.356686   \n",
       "min     29.00000    0.000000    0.000000   94.000000  126.000000    0.000000   \n",
       "25%     48.00000    0.000000    0.000000  120.000000  211.000000    0.000000   \n",
       "50%     55.50000    1.000000    1.000000  130.000000  240.500000    0.000000   \n",
       "75%     61.00000    1.000000    2.000000  140.000000  274.750000    0.000000   \n",
       "max     77.00000    1.000000    3.000000  200.000000  564.000000    1.000000   \n",
       "\n",
       "          restecg     thalach       exang     oldpeak       slope          ca  \\\n",
       "count  302.000000  302.000000  302.000000  302.000000  302.000000  302.000000   \n",
       "mean     0.526490  149.569536    0.327815    1.043046    1.397351    0.718543   \n",
       "std      0.526027   22.903527    0.470196    1.161452    0.616274    1.006748   \n",
       "min      0.000000   71.000000    0.000000    0.000000    0.000000    0.000000   \n",
       "25%      0.000000  133.250000    0.000000    0.000000    1.000000    0.000000   \n",
       "50%      1.000000  152.500000    0.000000    0.800000    1.000000    0.000000   \n",
       "75%      1.000000  166.000000    1.000000    1.600000    2.000000    1.000000   \n",
       "max      2.000000  202.000000    1.000000    6.200000    2.000000    4.000000   \n",
       "\n",
       "             thal      target  \n",
       "count  302.000000  302.000000  \n",
       "mean     2.314570    0.543046  \n",
       "std      0.613026    0.498970  \n",
       "min      0.000000    0.000000  \n",
       "25%      2.000000    0.000000  \n",
       "50%      2.000000    1.000000  \n",
       "75%      3.000000    1.000000  \n",
       "max      3.000000    1.000000  "
      ]
     },
     "execution_count": 63,
     "metadata": {},
     "output_type": "execute_result"
    }
   ],
   "source": [
    "df.describe()"
   ]
  },
  {
   "cell_type": "code",
   "execution_count": 64,
   "id": "2a0e1e0d",
   "metadata": {},
   "outputs": [],
   "source": [
    "#normalization function\n",
    "def norm_func(i):\n",
    "    x = (i-i.min()) / (i.max()-i.min())\n",
    "    return(x)"
   ]
  },
  {
   "cell_type": "code",
   "execution_count": 65,
   "id": "a25a2687",
   "metadata": {},
   "outputs": [],
   "source": [
    "df_norm = norm_func(df.iloc[:, 0:])"
   ]
  },
  {
   "cell_type": "code",
   "execution_count": 66,
   "id": "80fa8d94",
   "metadata": {},
   "outputs": [
    {
     "data": {
      "text/html": [
       "<div>\n",
       "<style scoped>\n",
       "    .dataframe tbody tr th:only-of-type {\n",
       "        vertical-align: middle;\n",
       "    }\n",
       "\n",
       "    .dataframe tbody tr th {\n",
       "        vertical-align: top;\n",
       "    }\n",
       "\n",
       "    .dataframe thead th {\n",
       "        text-align: right;\n",
       "    }\n",
       "</style>\n",
       "<table border=\"1\" class=\"dataframe\">\n",
       "  <thead>\n",
       "    <tr style=\"text-align: right;\">\n",
       "      <th></th>\n",
       "      <th>age</th>\n",
       "      <th>sex</th>\n",
       "      <th>cp</th>\n",
       "      <th>trestbps</th>\n",
       "      <th>chol</th>\n",
       "      <th>fbs</th>\n",
       "      <th>restecg</th>\n",
       "      <th>thalach</th>\n",
       "      <th>exang</th>\n",
       "      <th>oldpeak</th>\n",
       "      <th>slope</th>\n",
       "      <th>ca</th>\n",
       "      <th>thal</th>\n",
       "      <th>target</th>\n",
       "    </tr>\n",
       "  </thead>\n",
       "  <tbody>\n",
       "    <tr>\n",
       "      <th>count</th>\n",
       "      <td>302.000000</td>\n",
       "      <td>302.000000</td>\n",
       "      <td>302.000000</td>\n",
       "      <td>302.000000</td>\n",
       "      <td>302.000000</td>\n",
       "      <td>302.000000</td>\n",
       "      <td>302.000000</td>\n",
       "      <td>302.000000</td>\n",
       "      <td>302.000000</td>\n",
       "      <td>302.000000</td>\n",
       "      <td>302.000000</td>\n",
       "      <td>302.000000</td>\n",
       "      <td>302.000000</td>\n",
       "      <td>302.000000</td>\n",
       "    </tr>\n",
       "    <tr>\n",
       "      <th>mean</th>\n",
       "      <td>0.529594</td>\n",
       "      <td>0.682119</td>\n",
       "      <td>0.321192</td>\n",
       "      <td>0.354742</td>\n",
       "      <td>0.275114</td>\n",
       "      <td>0.149007</td>\n",
       "      <td>0.263245</td>\n",
       "      <td>0.599767</td>\n",
       "      <td>0.327815</td>\n",
       "      <td>0.168233</td>\n",
       "      <td>0.698675</td>\n",
       "      <td>0.179636</td>\n",
       "      <td>0.771523</td>\n",
       "      <td>0.543046</td>\n",
       "    </tr>\n",
       "    <tr>\n",
       "      <th>std</th>\n",
       "      <td>0.188499</td>\n",
       "      <td>0.466426</td>\n",
       "      <td>0.344015</td>\n",
       "      <td>0.165692</td>\n",
       "      <td>0.118159</td>\n",
       "      <td>0.356686</td>\n",
       "      <td>0.263014</td>\n",
       "      <td>0.174836</td>\n",
       "      <td>0.470196</td>\n",
       "      <td>0.187331</td>\n",
       "      <td>0.308137</td>\n",
       "      <td>0.251687</td>\n",
       "      <td>0.204342</td>\n",
       "      <td>0.498970</td>\n",
       "    </tr>\n",
       "    <tr>\n",
       "      <th>min</th>\n",
       "      <td>0.000000</td>\n",
       "      <td>0.000000</td>\n",
       "      <td>0.000000</td>\n",
       "      <td>0.000000</td>\n",
       "      <td>0.000000</td>\n",
       "      <td>0.000000</td>\n",
       "      <td>0.000000</td>\n",
       "      <td>0.000000</td>\n",
       "      <td>0.000000</td>\n",
       "      <td>0.000000</td>\n",
       "      <td>0.000000</td>\n",
       "      <td>0.000000</td>\n",
       "      <td>0.000000</td>\n",
       "      <td>0.000000</td>\n",
       "    </tr>\n",
       "    <tr>\n",
       "      <th>25%</th>\n",
       "      <td>0.395833</td>\n",
       "      <td>0.000000</td>\n",
       "      <td>0.000000</td>\n",
       "      <td>0.245283</td>\n",
       "      <td>0.194064</td>\n",
       "      <td>0.000000</td>\n",
       "      <td>0.000000</td>\n",
       "      <td>0.475191</td>\n",
       "      <td>0.000000</td>\n",
       "      <td>0.000000</td>\n",
       "      <td>0.500000</td>\n",
       "      <td>0.000000</td>\n",
       "      <td>0.666667</td>\n",
       "      <td>0.000000</td>\n",
       "    </tr>\n",
       "    <tr>\n",
       "      <th>50%</th>\n",
       "      <td>0.552083</td>\n",
       "      <td>1.000000</td>\n",
       "      <td>0.333333</td>\n",
       "      <td>0.339623</td>\n",
       "      <td>0.261416</td>\n",
       "      <td>0.000000</td>\n",
       "      <td>0.500000</td>\n",
       "      <td>0.622137</td>\n",
       "      <td>0.000000</td>\n",
       "      <td>0.129032</td>\n",
       "      <td>0.500000</td>\n",
       "      <td>0.000000</td>\n",
       "      <td>0.666667</td>\n",
       "      <td>1.000000</td>\n",
       "    </tr>\n",
       "    <tr>\n",
       "      <th>75%</th>\n",
       "      <td>0.666667</td>\n",
       "      <td>1.000000</td>\n",
       "      <td>0.666667</td>\n",
       "      <td>0.433962</td>\n",
       "      <td>0.339612</td>\n",
       "      <td>0.000000</td>\n",
       "      <td>0.500000</td>\n",
       "      <td>0.725191</td>\n",
       "      <td>1.000000</td>\n",
       "      <td>0.258065</td>\n",
       "      <td>1.000000</td>\n",
       "      <td>0.250000</td>\n",
       "      <td>1.000000</td>\n",
       "      <td>1.000000</td>\n",
       "    </tr>\n",
       "    <tr>\n",
       "      <th>max</th>\n",
       "      <td>1.000000</td>\n",
       "      <td>1.000000</td>\n",
       "      <td>1.000000</td>\n",
       "      <td>1.000000</td>\n",
       "      <td>1.000000</td>\n",
       "      <td>1.000000</td>\n",
       "      <td>1.000000</td>\n",
       "      <td>1.000000</td>\n",
       "      <td>1.000000</td>\n",
       "      <td>1.000000</td>\n",
       "      <td>1.000000</td>\n",
       "      <td>1.000000</td>\n",
       "      <td>1.000000</td>\n",
       "      <td>1.000000</td>\n",
       "    </tr>\n",
       "  </tbody>\n",
       "</table>\n",
       "</div>"
      ],
      "text/plain": [
       "              age         sex          cp    trestbps        chol         fbs  \\\n",
       "count  302.000000  302.000000  302.000000  302.000000  302.000000  302.000000   \n",
       "mean     0.529594    0.682119    0.321192    0.354742    0.275114    0.149007   \n",
       "std      0.188499    0.466426    0.344015    0.165692    0.118159    0.356686   \n",
       "min      0.000000    0.000000    0.000000    0.000000    0.000000    0.000000   \n",
       "25%      0.395833    0.000000    0.000000    0.245283    0.194064    0.000000   \n",
       "50%      0.552083    1.000000    0.333333    0.339623    0.261416    0.000000   \n",
       "75%      0.666667    1.000000    0.666667    0.433962    0.339612    0.000000   \n",
       "max      1.000000    1.000000    1.000000    1.000000    1.000000    1.000000   \n",
       "\n",
       "          restecg     thalach       exang     oldpeak       slope          ca  \\\n",
       "count  302.000000  302.000000  302.000000  302.000000  302.000000  302.000000   \n",
       "mean     0.263245    0.599767    0.327815    0.168233    0.698675    0.179636   \n",
       "std      0.263014    0.174836    0.470196    0.187331    0.308137    0.251687   \n",
       "min      0.000000    0.000000    0.000000    0.000000    0.000000    0.000000   \n",
       "25%      0.000000    0.475191    0.000000    0.000000    0.500000    0.000000   \n",
       "50%      0.500000    0.622137    0.000000    0.129032    0.500000    0.000000   \n",
       "75%      0.500000    0.725191    1.000000    0.258065    1.000000    0.250000   \n",
       "max      1.000000    1.000000    1.000000    1.000000    1.000000    1.000000   \n",
       "\n",
       "             thal      target  \n",
       "count  302.000000  302.000000  \n",
       "mean     0.771523    0.543046  \n",
       "std      0.204342    0.498970  \n",
       "min      0.000000    0.000000  \n",
       "25%      0.666667    0.000000  \n",
       "50%      0.666667    1.000000  \n",
       "75%      1.000000    1.000000  \n",
       "max      1.000000    1.000000  "
      ]
     },
     "execution_count": 66,
     "metadata": {},
     "output_type": "execute_result"
    }
   ],
   "source": [
    "df_norm.describe()"
   ]
  },
  {
   "cell_type": "code",
   "execution_count": 67,
   "id": "154e86b6",
   "metadata": {},
   "outputs": [],
   "source": [
    "from sklearn.decomposition import PCA"
   ]
  },
  {
   "cell_type": "code",
   "execution_count": 68,
   "id": "a56057d8",
   "metadata": {},
   "outputs": [
    {
     "data": {
      "text/plain": [
       "PCA(n_components=3)"
      ]
     },
     "execution_count": 68,
     "metadata": {},
     "output_type": "execute_result"
    }
   ],
   "source": [
    "pca = PCA(n_components=3)\n",
    "pca"
   ]
  },
  {
   "cell_type": "code",
   "execution_count": 69,
   "id": "186c7752",
   "metadata": {},
   "outputs": [],
   "source": [
    "pca_values = pca.fit_transform(df_norm)"
   ]
  },
  {
   "cell_type": "code",
   "execution_count": 70,
   "id": "09ba555e",
   "metadata": {},
   "outputs": [
    {
     "data": {
      "text/plain": [
       "array([0.33130379, 0.15268579, 0.1056623 ])"
      ]
     },
     "execution_count": 70,
     "metadata": {},
     "output_type": "execute_result"
    }
   ],
   "source": [
    "# The amount of variance that each PCA explains is \n",
    "\n",
    "var = pca.explained_variance_ratio_\n",
    "var"
   ]
  },
  {
   "cell_type": "code",
   "execution_count": 71,
   "id": "04be6359",
   "metadata": {},
   "outputs": [
    {
     "data": {
      "text/plain": [
       "array([[ 0.06003332,  0.30316929, -0.28854624,  0.03086914,  0.00942726,\n",
       "         0.02691579, -0.0614701 , -0.13251352,  0.51740233,  0.13738978,\n",
       "        -0.19866788,  0.15026087,  0.11633121, -0.66027227],\n",
       "       [ 0.08134497, -0.90384181, -0.20539616,  0.03654845,  0.06204948,\n",
       "        -0.07727139,  0.0104251 , -0.08364161,  0.30747847,  0.04969489,\n",
       "        -0.12930667, -0.0036004 , -0.04275252, -0.02074741],\n",
       "       [ 0.16816474, -0.19831984,  0.1892168 ,  0.12708162,  0.03315942,\n",
       "         0.58843179, -0.13095093, -0.04002264, -0.51090893,  0.10510742,\n",
       "        -0.21745804,  0.25129125,  0.00366437, -0.36305843]])"
      ]
     },
     "execution_count": 71,
     "metadata": {},
     "output_type": "execute_result"
    }
   ],
   "source": [
    "pca.components_"
   ]
  },
  {
   "cell_type": "code",
   "execution_count": 72,
   "id": "00dda8f2",
   "metadata": {},
   "outputs": [
    {
     "data": {
      "text/plain": [
       "array([ 0.06003332,  0.30316929, -0.28854624,  0.03086914,  0.00942726,\n",
       "        0.02691579, -0.0614701 , -0.13251352,  0.51740233,  0.13738978,\n",
       "       -0.19866788,  0.15026087,  0.11633121, -0.66027227])"
      ]
     },
     "execution_count": 72,
     "metadata": {},
     "output_type": "execute_result"
    }
   ],
   "source": [
    "pca.components_[0]"
   ]
  },
  {
   "cell_type": "code",
   "execution_count": 73,
   "id": "c0e81839",
   "metadata": {},
   "outputs": [
    {
     "data": {
      "text/plain": [
       "array([0.33130379, 0.48398958, 0.58965188])"
      ]
     },
     "execution_count": 73,
     "metadata": {},
     "output_type": "execute_result"
    }
   ],
   "source": [
    "#cummulative variance\n",
    "var1 = np.cumsum(pca.explained_variance_ratio_)\n",
    "var1"
   ]
  },
  {
   "cell_type": "code",
   "execution_count": 74,
   "id": "29623c3d",
   "metadata": {},
   "outputs": [
    {
     "data": {
      "text/plain": [
       "[<matplotlib.lines.Line2D at 0x1a054197ca0>]"
      ]
     },
     "execution_count": 74,
     "metadata": {},
     "output_type": "execute_result"
    },
    {
     "data": {
      "image/png": "[encoded data removed]",
      "text/plain": [
       "<Figure size 640x480 with 1 Axes>"
      ]
     },
     "metadata": {},
     "output_type": "display_data"
    }
   ],
   "source": [
    "plt.plot(var1,color='red')"
   ]
  },
  {
   "cell_type": "code",
   "execution_count": 75,
   "id": "0a9b97bc",
   "metadata": {},
   "outputs": [
    {
     "data": {
      "text/plain": [
       "array([[-4.29138287e-01, -4.68746530e-01,  7.73666870e-01],\n",
       "       [-3.99186312e-01, -3.92879137e-01, -4.08373963e-02],\n",
       "       [-8.01455598e-01,  4.37916124e-01, -7.80593253e-02],\n",
       "       [-5.31849486e-01, -4.42847598e-01, -3.10874155e-01],\n",
       "       [-2.06902530e-01,  8.63323502e-01, -6.72906543e-01],\n",
       "       [-3.47499754e-01, -2.77172253e-01, -2.39904479e-01],\n",
       "       [-6.61508402e-01,  5.55517316e-01,  1.06133118e-01],\n",
       "       [-5.20169558e-01, -4.76829529e-01, -3.61684475e-01],\n",
       "       [-5.43457534e-01, -5.89114986e-01,  3.87180837e-01],\n",
       "       [-5.97733989e-01, -4.99941467e-01, -1.98695684e-01],\n",
       "       [-4.05208037e-01, -3.55751793e-01, -3.44468082e-01],\n",
       "       [-9.11300009e-01,  4.08036002e-01, -6.08246748e-02],\n",
       "       [-5.34397512e-01, -4.44146138e-01, -3.22390102e-01],\n",
       "       [-1.36345750e-02, -1.76567418e-01, -4.79947745e-01],\n",
       "       [-9.36865775e-01,  2.73789873e-01,  7.22307853e-01],\n",
       "       [-8.01778194e-01,  4.63787675e-01,  5.66119404e-02],\n",
       "       [-9.38119425e-01,  4.08070076e-01, -4.63308683e-02],\n",
       "       [-7.03060017e-01,  5.34534839e-01,  3.51360111e-01],\n",
       "       [-4.20360499e-01, -3.74430809e-01, -3.68686188e-01],\n",
       "       [-8.80632955e-01,  3.76869506e-01,  2.34186992e-01],\n",
       "       [-2.78930566e-01, -3.05557374e-01, -2.35545876e-01],\n",
       "       [-1.32665360e-01, -2.24992399e-01, -7.96076937e-01],\n",
       "       [-4.65295704e-01, -3.99040792e-01, -4.13336118e-01],\n",
       "       [ 7.66668053e-02, -1.68862617e-01,  8.38031877e-03],\n",
       "       [-1.69721566e-01, -3.07202245e-01, -7.19123802e-01],\n",
       "       [-7.20737653e-01,  5.14765748e-01,  1.16701881e-01],\n",
       "       [-5.50173369e-01, -5.56735950e-01,  4.05267830e-01],\n",
       "       [-5.87306629e-01, -4.98362337e-01, -2.68513139e-01],\n",
       "       [-7.93765823e-01,  3.70342543e-01,  7.42875275e-01],\n",
       "       [-3.38227907e-01, -4.51844564e-01,  6.36813936e-01],\n",
       "       [-8.29012311e-01,  4.24091179e-01, -1.33650166e-01],\n",
       "       [-3.57328791e-01, -3.60682801e-01, -3.40832257e-01],\n",
       "       [-5.41419729e-01, -4.80153837e-01, -2.93355465e-01],\n",
       "       [-3.41659846e-01, -3.70346705e-01,  1.02600698e-01],\n",
       "       [-7.68953388e-02, -2.49771397e-01, -5.54240223e-01],\n",
       "       [-1.60261864e-01,  8.22683723e-01, -2.74912073e-01],\n",
       "       [-9.10589873e-01,  3.25368899e-01,  5.43956041e-01],\n",
       "       [-5.21492471e-01, -5.09675956e-01, -1.34914200e-01],\n",
       "       [-8.78695091e-01,  4.43678416e-01,  3.56735530e-02],\n",
       "       [-8.47579979e-01,  4.51165952e-01,  1.13116170e-01],\n",
       "       [-8.09852330e-01,  4.23634778e-01,  1.13593147e-01],\n",
       "       [-4.23999046e-01, -3.98327508e-01, -1.62809657e-01],\n",
       "       [ 2.71881955e-01,  1.20034092e-03, -7.24028865e-01],\n",
       "       [-5.82464430e-01,  6.10371794e-01,  6.08816383e-03],\n",
       "       [-6.32678387e-01, -5.35363900e-01, -2.26256373e-01],\n",
       "       [-5.42163141e-01, -4.37996387e-01, -3.26488598e-01],\n",
       "       [-6.26252824e-01, -5.37796726e-01, -2.14638933e-01],\n",
       "       [-5.98332376e-01, -5.14961964e-01, -1.97528470e-01],\n",
       "       [-9.33872588e-01,  4.44471303e-01,  1.68024176e-02],\n",
       "       [-7.06174595e-01,  5.30166494e-01, -1.07295885e-01],\n",
       "       [-8.80689465e-01,  4.01235604e-01,  1.57533429e-02],\n",
       "       [-2.73222837e-01, -2.74611647e-01, -1.58243174e-01],\n",
       "       [-3.12386816e-01, -4.22256193e-01,  1.09977251e-01],\n",
       "       [-8.53811857e-01,  4.19562527e-01, -6.84694164e-03],\n",
       "       [-8.98656692e-01,  4.04036349e-01,  4.79828380e-02],\n",
       "       [-4.75732236e-01, -4.37887875e-01, -2.41820104e-01],\n",
       "       [-4.40476941e-01, -4.05966107e-01, -3.51166916e-01],\n",
       "       [-4.44438107e-01, -4.07441970e-01, -3.66887034e-01],\n",
       "       [-7.36420066e-01, -6.34471867e-01, -2.15155764e-01],\n",
       "       [-6.64022114e-01,  5.43010578e-01, -3.69189158e-02],\n",
       "       [-7.88685532e-01,  3.59460479e-01,  7.11108684e-01],\n",
       "       [-4.92970748e-01, -4.46649353e-01, -3.32360479e-01],\n",
       "       [-6.69449465e-01, -5.34712436e-01, -4.91718588e-02],\n",
       "       [-4.57591272e-01, -3.65908648e-01, -2.39941636e-01],\n",
       "       [-5.67170575e-01, -5.85165190e-01,  4.25606695e-01],\n",
       "       [-7.51750514e-01,  4.94824482e-01, -2.22681580e-01],\n",
       "       [ 2.05937762e-02, -1.30980754e-01, -6.75062324e-01],\n",
       "       [-7.17235552e-01,  5.05270469e-01,  3.24758188e-02],\n",
       "       [-5.56837474e-01, -4.66754848e-01, -3.65244761e-01],\n",
       "       [-7.33303200e-01,  5.40346979e-01, -1.60834035e-01],\n",
       "       [-4.38719074e-01, -4.49808845e-01, -7.50273882e-02],\n",
       "       [-4.17562289e-02, -2.28787187e-01, -7.50265893e-01],\n",
       "       [-5.74664742e-01, -5.16637921e-01, -3.51319772e-01],\n",
       "       [ 8.67588161e-02, -8.16722842e-02, -8.27033105e-01],\n",
       "       [-8.48184129e-01,  4.36073642e-01,  8.15889445e-03],\n",
       "       [-6.71038682e-01,  5.41559011e-01,  9.25553363e-02],\n",
       "       [-4.28056384e-01, -5.14131744e-01,  5.34783689e-01],\n",
       "       [-8.75951970e-03, -1.22987564e-01, -7.97715745e-01],\n",
       "       [-5.32070986e-01, -5.38774153e-01,  2.55392725e-01],\n",
       "       [ 7.62813930e-02, -1.46139896e-01, -5.90016611e-01],\n",
       "       [-6.67559662e-01, -5.44559076e-01, -3.22752311e-01],\n",
       "       [-5.20627923e-01, -4.55047775e-01, -2.80012632e-01],\n",
       "       [-8.91629620e-01,  4.08898195e-01,  3.91956426e-03],\n",
       "       [-5.44672329e-01, -5.90403147e-01,  5.49478101e-01],\n",
       "       [-5.78680099e-01,  5.97228855e-01, -5.61362089e-02],\n",
       "       [-7.07057894e-01,  5.19007601e-01,  2.02380481e-01],\n",
       "       [-5.04637051e-01, -4.82166821e-01, -1.29370733e-01],\n",
       "       [-4.80509661e-01, -5.55758352e-01,  2.11172548e-01],\n",
       "       [-7.99795217e-01,  4.66410129e-01,  5.82583043e-02],\n",
       "       [-5.50753472e-01,  6.24452061e-01,  3.01505337e-03],\n",
       "       [-5.49110127e-01, -6.04368033e-01,  4.31836323e-01],\n",
       "       [ 1.17020954e-01, -7.94580222e-02, -8.78446438e-01],\n",
       "       [-4.86435078e-01, -5.17993323e-01, -7.41254798e-04],\n",
       "       [-2.18796132e-01,  6.98922408e-01,  9.68258435e-02],\n",
       "       [-7.30673566e-01,  5.12608216e-01, -5.90494019e-02],\n",
       "       [ 2.03732910e-01, -4.89160314e-02, -7.96143017e-01],\n",
       "       [-5.61931993e-01,  6.44961902e-01,  6.87347423e-02],\n",
       "       [-2.49994445e-01, -4.65763711e-01,  3.73151855e-01],\n",
       "       [-5.61552376e-01, -5.00571874e-01, -1.89017700e-01],\n",
       "       [-4.70979683e-01, -5.99936487e-01,  5.84774734e-01],\n",
       "       [-6.27531579e-01, -5.99729113e-01, -8.48220225e-03],\n",
       "       [-3.25935058e-01, -3.91714146e-01,  2.49766475e-01],\n",
       "       [-7.64930844e-01,  4.65093736e-01,  4.46212680e-02],\n",
       "       [-3.97279305e-01, -5.06903277e-01,  5.05675911e-01],\n",
       "       [-6.36330112e-01, -5.20879517e-01, -2.70040294e-01],\n",
       "       [-7.07421998e-01,  5.14599516e-01,  1.95985452e-01],\n",
       "       [-4.69767671e-01, -5.38571510e-01,  7.36570296e-01],\n",
       "       [-8.68764700e-02,  8.95735075e-01, -5.31517152e-01],\n",
       "       [-8.19518004e-01,  4.64579773e-01, -1.22995155e-01],\n",
       "       [-7.16638766e-01,  5.18899922e-01, -1.49555267e-01],\n",
       "       [-1.85490558e-01,  8.92702999e-01, -5.86067050e-01],\n",
       "       [-5.25391840e-01, -6.08896691e-01,  4.27172286e-01],\n",
       "       [-8.42712440e-01,  4.33562321e-01,  1.31504721e-02],\n",
       "       [-4.17130929e-01, -4.13211573e-01, -4.40519544e-01],\n",
       "       [-5.24090369e-01, -4.29138091e-01, -3.06955760e-01],\n",
       "       [-9.65051321e-01,  3.56050436e-01, -1.28755215e-01],\n",
       "       [-4.77577213e-01, -4.60957960e-01, -9.24270609e-02],\n",
       "       [-5.15732630e-01, -5.21647442e-01,  1.09772938e-02],\n",
       "       [-8.64241132e-01,  4.31760765e-01, -1.79723644e-01],\n",
       "       [-8.99070403e-02,  8.96818360e-01, -5.30874336e-01],\n",
       "       [-4.66773944e-01,  6.64183335e-01,  1.41288969e-01],\n",
       "       [-4.16958952e-01, -3.72312253e-01, -2.88515350e-01],\n",
       "       [-4.15123274e-01,  6.68568029e-01, -5.66364615e-01],\n",
       "       [-9.12395212e-01,  3.84792067e-01, -1.32547204e-02],\n",
       "       [-9.79569964e-01,  3.42462079e-01, -1.56880265e-01],\n",
       "       [-8.80053806e-01,  4.09597873e-01, -1.99968468e-01],\n",
       "       [-4.30049521e-01, -3.80189780e-01, -4.18664877e-01],\n",
       "       [-8.81334952e-01,  4.24530725e-01,  8.16175912e-02],\n",
       "       [-8.08743854e-01,  4.45176643e-01,  1.17745257e-01],\n",
       "       [-1.81730640e-01,  8.29123848e-01, -4.22362141e-01],\n",
       "       [-8.87796026e-01,  4.00237962e-01,  4.26599970e-02],\n",
       "       [-7.41152175e-01,  5.27373706e-01, -1.75892192e-02],\n",
       "       [-5.49632177e-01, -4.54411426e-01, -3.64129512e-01],\n",
       "       [-5.45982476e-01, -4.62307639e-01, -3.81414516e-01],\n",
       "       [-8.53079648e-01,  4.50724310e-01, -1.61592553e-01],\n",
       "       [-7.46523508e-01,  5.28884757e-01, -1.94642967e-01],\n",
       "       [-8.35310968e-01,  3.59763152e-01,  5.60062582e-01],\n",
       "       [-4.44256067e-01, -4.98521471e-01,  3.69572348e-01],\n",
       "       [ 2.07989526e-01,  4.41008212e-02, -7.60729103e-01],\n",
       "       [ 3.30875214e-01,  4.45397502e-02, -6.60288463e-01],\n",
       "       [-8.88638699e-01,  3.99006238e-01,  5.96821202e-03],\n",
       "       [-3.46777313e-01, -3.22701538e-01, -3.05819528e-01],\n",
       "       [-8.62627711e-01,  4.26411755e-01, -3.87982265e-03],\n",
       "       [-6.28969377e-01,  5.58609976e-01, -2.66895717e-02],\n",
       "       [-7.63238918e-01,  5.39650119e-01,  1.08893116e-01],\n",
       "       [-4.55250488e-01, -3.94712110e-01, -1.55378663e-01],\n",
       "       [-7.91508090e-01,  4.50614640e-01,  7.84686351e-02],\n",
       "       [-1.00426068e+00,  3.47023673e-01,  6.77071606e-02],\n",
       "       [-6.51878860e-01, -5.33731758e-01, -3.01412740e-01],\n",
       "       [-6.33238625e-01, -5.28058551e-01, -2.94108458e-01],\n",
       "       [-3.46024335e-01, -2.98176129e-01, -1.89658546e-01],\n",
       "       [-5.53604574e-01,  6.44701944e-01, -7.68994237e-04],\n",
       "       [-5.12161027e-01, -4.91983984e-01,  8.16228926e-02],\n",
       "       [-7.34011369e-01,  4.93119419e-01,  2.51311376e-01],\n",
       "       [-8.39658481e-01,  4.42500551e-01,  1.44383931e-02],\n",
       "       [-5.91817507e-01,  6.23831079e-01, -3.98857128e-02],\n",
       "       [-6.54748999e-01, -5.27759618e-01, -2.79924701e-01],\n",
       "       [-5.72160154e-01, -4.87838013e-01, -3.97719729e-01],\n",
       "       [-2.14335533e-01, -3.74696413e-01,  6.57639807e-02],\n",
       "       [-4.62302444e-01, -4.57822963e-01, -2.42303501e-01],\n",
       "       [-3.41719241e-01, -3.13640143e-01, -1.03925891e-01],\n",
       "       [-8.09490869e-01,  4.89321573e-01, -8.31989482e-02],\n",
       "       [-5.74084174e-01, -4.88425661e-01, -3.84190759e-01],\n",
       "       [-5.09024133e-01, -5.51072826e-01, -5.46452790e-02],\n",
       "       [ 1.09757488e+00,  1.00405546e-01, -3.55924894e-02],\n",
       "       [ 1.08904415e+00,  6.05966459e-02, -1.37232192e-01],\n",
       "       [ 3.20241184e-01,  7.28033864e-01,  6.96399001e-01],\n",
       "       [ 4.87724555e-01, -2.66881970e-01,  2.84879029e-01],\n",
       "       [ 1.11269791e+00,  1.66728292e-02,  4.07777219e-01],\n",
       "       [ 7.40742620e-01, -1.59903285e-01,  4.49696220e-01],\n",
       "       [ 3.67346804e-01, -3.17053567e-01,  2.36763263e-01],\n",
       "       [ 3.02393896e-01, -3.32962045e-01,  2.59481636e-01],\n",
       "       [ 2.40861896e-01, -4.83573063e-01,  3.70298400e-01],\n",
       "       [ 1.07523984e+00,  4.54049803e-02, -1.55815744e-01],\n",
       "       [ 9.77775857e-01,  9.17717511e-03, -3.79742057e-01],\n",
       "       [ 9.18334226e-01, -1.18282482e-01,  2.19135766e-01],\n",
       "       [ 5.27048015e-02, -4.49729798e-01,  1.67304679e-01],\n",
       "       [ 9.89665855e-01,  1.93025961e-02, -3.49842557e-01],\n",
       "       [ 9.44043127e-01,  8.48773810e-02, -2.26719385e-01],\n",
       "       [ 9.77840916e-01,  5.49402502e-02, -3.08447940e-01],\n",
       "       [ 2.91904686e-01,  6.59200546e-01,  6.40934448e-01],\n",
       "       [-4.52642498e-02,  5.69566541e-01,  2.78717107e-01],\n",
       "       [ 2.89516074e-01, -4.24568398e-01,  3.83258344e-01],\n",
       "       [ 4.85299010e-01, -2.60925595e-01,  2.25804675e-01],\n",
       "       [ 2.84290452e-01, -3.65642237e-01,  6.39418419e-02],\n",
       "       [ 8.74318952e-01, -2.21545557e-02, -4.09903843e-01],\n",
       "       [ 1.04854836e+00,  5.56502158e-02, -2.38673749e-01],\n",
       "       [ 2.16913941e-01, -4.36786148e-01,  2.91951966e-01],\n",
       "       [ 2.73570253e-01, -4.04675585e-01, -2.10285172e-02],\n",
       "       [ 6.20372534e-01,  9.39029020e-01, -1.96051483e-01],\n",
       "       [ 1.10651610e+00,  4.08779915e-02, -1.04725544e-01],\n",
       "       [ 4.75793352e-01, -2.68010982e-01,  1.81274774e-01],\n",
       "       [ 1.07999222e+00,  5.81647729e-02, -1.28352845e-01],\n",
       "       [ 2.44056088e-01, -3.92356215e-01,  3.67914448e-01],\n",
       "       [ 1.12649141e+00,  1.43862973e-01, -1.04686999e-01],\n",
       "       [ 2.21101795e-01, -3.90987637e-01,  2.81478080e-01],\n",
       "       [ 4.82240771e-01, -3.54620284e-01,  8.53445844e-01],\n",
       "       [ 1.06549241e+00,  7.54613724e-02, -2.21744730e-01],\n",
       "       [ 3.16094772e-01, -3.21725861e-01,  2.02181939e-01],\n",
       "       [ 2.57429051e-01, -3.94830374e-01,  4.71709845e-02],\n",
       "       [ 1.03709763e+00,  4.94074548e-02, -2.16664760e-01],\n",
       "       [ 8.91263143e-01, -4.29129029e-03, -3.89083029e-01],\n",
       "       [ 8.24755418e-01, -1.44471389e-01,  5.07173066e-01],\n",
       "       [ 4.72957773e-01,  7.35462720e-01,  8.25207518e-01],\n",
       "       [ 8.15554100e-01, -5.81939941e-02, -4.69105366e-01],\n",
       "       [ 9.94602735e-01,  2.63862015e-02, -2.67019876e-01],\n",
       "       [ 2.40754892e-01,  6.41671781e-01,  5.77080082e-01],\n",
       "       [ 3.39301548e-01, -4.27006838e-01,  4.17776031e-01],\n",
       "       [ 8.25113198e-01, -5.38820187e-02, -4.36405361e-01],\n",
       "       [ 2.61541405e-01, -4.28142859e-01,  3.67843181e-01],\n",
       "       [ 1.02493949e+00,  6.19247677e-02, -2.70612031e-01],\n",
       "       [ 3.87808637e-01, -3.07671320e-01,  5.42101095e-02],\n",
       "       [ 6.59547703e-01,  9.52061618e-01, -8.20196636e-02],\n",
       "       [ 9.81549774e-01, -3.64067790e-02,  3.27809438e-01],\n",
       "       [ 7.15331777e-01,  8.67035594e-01,  4.67299667e-01],\n",
       "       [ 6.54482079e-03,  5.35143132e-01,  5.52931114e-01],\n",
       "       [ 1.03351211e+00, -7.95784491e-02,  3.96436046e-01],\n",
       "       [ 5.42936604e-01, -2.37777476e-01,  3.27724570e-01],\n",
       "       [ 9.17498432e-01, -1.40502186e-01,  2.39445122e-01],\n",
       "       [ 3.19337341e-01,  6.80100780e-01,  6.86343933e-01],\n",
       "       [ 1.15775725e+00,  1.52661088e-01, -1.82238534e-01],\n",
       "       [ 1.65438877e-01, -5.42423417e-01,  1.07177493e+00],\n",
       "       [ 9.49911580e-01,  9.77788318e-01,  8.42599908e-01],\n",
       "       [ 1.00925450e+00,  4.61655719e-02, -3.17999743e-01],\n",
       "       [ 1.09640757e+00,  1.40729049e-01, -1.82083673e-01],\n",
       "       [ 4.32469088e-01, -3.08571679e-01,  3.47945822e-01],\n",
       "       [ 9.19318031e-01,  3.33995632e-04, -4.60068335e-01],\n",
       "       [ 1.30260633e-01, -4.76828480e-01,  4.23779065e-01],\n",
       "       [ 7.70489564e-01, -6.90374319e-02, -2.14841395e-01],\n",
       "       [ 2.62131848e-02, -4.98775281e-01,  6.42501742e-02],\n",
       "       [ 6.07614451e-01, -3.27616466e-01,  1.02279224e+00],\n",
       "       [ 9.93338525e-01,  3.88089825e-02, -2.25001794e-01],\n",
       "       [ 1.13316703e+00,  1.55589074e-01, -9.84698148e-02],\n",
       "       [ 5.94895050e-01, -2.00657515e-01,  4.67537690e-01],\n",
       "       [ 8.04496621e-01, -4.34550788e-02, -4.94255628e-01],\n",
       "       [ 3.63935563e-01, -3.62661290e-01,  1.87877414e-01],\n",
       "       [ 4.97591626e-01, -2.80181440e-01,  3.41715491e-01],\n",
       "       [ 9.13079308e-01, -3.31999921e-03, -1.91812483e-01],\n",
       "       [ 7.92518597e-01, -8.49883179e-02, -5.24837172e-01],\n",
       "       [ 8.68485772e-01, -3.24200871e-02, -6.76124326e-02],\n",
       "       [ 5.75606185e-01,  9.63818291e-01, -1.41383070e-01],\n",
       "       [ 4.80919706e-01, -2.23977239e-01,  3.78320367e-01],\n",
       "       [ 1.02897468e+00,  8.21273491e-02, -2.70001501e-01],\n",
       "       [ 9.75890687e-01,  8.04354851e-02, -2.31199878e-01],\n",
       "       [ 3.90918889e-01, -3.09982643e-01,  1.42763224e-01],\n",
       "       [ 7.43314119e-01,  9.57104928e-01,  3.46786058e-02],\n",
       "       [ 8.84390945e-01,  2.43574577e-02, -7.48442465e-02],\n",
       "       [ 2.20053928e-01, -4.31635915e-01,  2.45818915e-01],\n",
       "       [ 3.95214515e-01, -3.86549192e-01,  5.80155813e-01],\n",
       "       [ 1.12570899e+00,  7.17588402e-02, -1.37475238e-01],\n",
       "       [ 1.09539490e+00, -8.14369560e-02,  4.61852910e-01],\n",
       "       [ 2.71582877e-01,  6.14267498e-01,  1.16069782e+00],\n",
       "       [ 1.01232418e+00,  6.67960614e-02, -1.84729576e-01],\n",
       "       [ 1.88754823e-02, -5.12698473e-01,  3.07701152e-01],\n",
       "       [ 1.03139974e+00,  8.99966604e-03, -1.68629541e-01],\n",
       "       [ 1.08861565e+00,  5.49204373e-02, -1.50425214e-01],\n",
       "       [ 9.64380243e-01,  2.60434306e-02, -3.23761681e-01],\n",
       "       [ 5.92157821e-01,  9.64116989e-01, -1.39651249e-01],\n",
       "       [ 6.31384569e-01, -2.10870727e-01, -2.36433595e-01],\n",
       "       [ 7.25802683e-01,  8.74731498e-01,  6.11876974e-01],\n",
       "       [ 2.55188674e-01, -3.59841520e-01,  1.98128343e-02],\n",
       "       [ 1.06391081e+00,  6.75255652e-02, -2.43930746e-01],\n",
       "       [ 6.50536422e-01,  9.46700489e-01, -5.67642481e-02],\n",
       "       [ 9.56663174e-01,  3.95787899e-02, -2.98212625e-01],\n",
       "       [ 8.50987817e-01, -1.77208369e-02, -3.67685565e-01],\n",
       "       [ 6.44937670e-01,  1.01922344e+00, -1.42190881e-01],\n",
       "       [ 2.17062364e-01, -4.90154480e-01,  3.51579039e-01],\n",
       "       [ 1.06226331e+00,  7.46905761e-02, -1.63141835e-01],\n",
       "       [ 1.13462101e+00,  5.08204550e-02,  4.02812832e-01],\n",
       "       [ 3.16282673e-01, -3.66494900e-01,  3.21463487e-02],\n",
       "       [ 1.94079105e-01, -4.47663007e-01,  4.87450662e-01],\n",
       "       [ 4.50386129e-01, -2.00277230e-01,  1.72535298e-01],\n",
       "       [ 3.04323561e-01, -3.64139664e-01,  3.08884581e-02],\n",
       "       [ 9.61437537e-01,  3.91213480e-02, -3.03615258e-01],\n",
       "       [ 3.48996590e-01, -3.70152663e-01,  1.12588550e-01],\n",
       "       [ 5.10401719e-01, -2.38100490e-01,  2.41346476e-01],\n",
       "       [ 1.96501171e-01, -4.10119205e-01,  6.64250580e-02],\n",
       "       [-2.44452237e-02,  4.28310211e-01,  1.05691080e+00],\n",
       "       [ 1.03528951e+00,  7.34301262e-02, -1.87311787e-01],\n",
       "       [ 8.67186178e-01,  6.75855806e-02, -4.05029297e-01],\n",
       "       [ 8.14027120e-01, -2.31766409e-02,  1.76187620e-01],\n",
       "       [ 2.37922412e-01, -4.45915246e-01,  9.27536237e-01],\n",
       "       [ 2.31647638e-01, -3.94136491e-01, -4.28201642e-02],\n",
       "       [ 9.25375943e-01, -2.09024982e-02, -3.22109108e-01],\n",
       "       [ 1.03101008e+00,  4.80673989e-02, -2.56906739e-01],\n",
       "       [ 3.45143075e-02, -5.45237480e-01,  3.33734748e-01],\n",
       "       [ 2.04223113e-01, -4.12835174e-01,  2.15160168e-01],\n",
       "       [ 1.00230835e+00,  5.55983252e-02, -3.02024844e-01],\n",
       "       [ 6.59337056e-01,  9.49338145e-01, -1.77430372e-01],\n",
       "       [ 3.14113162e-01, -3.50890951e-01,  9.33753877e-02],\n",
       "       [ 5.87189028e-01, -1.41510340e-01,  4.07002795e-01],\n",
       "       [ 7.25690598e-01,  9.07838536e-01,  6.73383749e-01],\n",
       "       [ 2.51970325e-01, -4.01222960e-01,  3.74322002e-01],\n",
       "       [ 9.64159719e-01,  1.05312459e-01, -3.08380685e-01],\n",
       "       [ 1.00547801e+00, -8.24530969e-03, -2.20025756e-01],\n",
       "       [ 5.72009706e-01,  9.50460000e-01, -1.89111625e-01],\n",
       "       [ 5.26665940e-01, -2.89469798e-01,  9.65167220e-01],\n",
       "       [ 6.26471259e-01,  9.47694439e-01, -1.79035270e-01],\n",
       "       [ 1.13497797e-01, -4.94174904e-01,  2.60707354e-01],\n",
       "       [ 5.80876715e-01, -3.15320400e-01,  9.36080318e-01],\n",
       "       [ 9.92178079e-01,  3.70445484e-02, -3.15451894e-01],\n",
       "       [-1.66309172e-02,  5.41566654e-01,  4.90683490e-01]])"
      ]
     },
     "execution_count": 75,
     "metadata": {},
     "output_type": "execute_result"
    }
   ],
   "source": [
    "# PCA scores\n",
    "pca_values"
   ]
  },
  {
   "cell_type": "code",
   "execution_count": 76,
   "id": "b8337af1",
   "metadata": {},
   "outputs": [],
   "source": [
    "#pca for feature extraction\n",
    "pca_data = pd.DataFrame(pca_values)\n",
    "pca_data.columns = \"pc0\", \"pc1\", \"pc2\"\n",
    "final = pca_data.iloc[:, 0:3]"
   ]
  },
  {
   "cell_type": "code",
   "execution_count": 77,
   "id": "7edecc92",
   "metadata": {},
   "outputs": [
    {
     "data": {
      "text/plain": [
       "<AxesSubplot: xlabel='pc0'>"
      ]
     },
     "execution_count": 77,
     "metadata": {},
     "output_type": "execute_result"
    },
    {
     "data": {
      "image/png": "[encoded data removed]",
      "text/plain": [
       "<Figure size 640x480 with 1 Axes>"
      ]
     },
     "metadata": {},
     "output_type": "display_data"
    }
   ],
   "source": [
    "sns.boxplot(final.pc0)"
   ]
  },
  {
   "cell_type": "code",
   "execution_count": 78,
   "id": "0ea068ec",
   "metadata": {},
   "outputs": [
    {
     "data": {
      "text/plain": [
       "<AxesSubplot: xlabel='pc1'>"
      ]
     },
     "execution_count": 78,
     "metadata": {},
     "output_type": "execute_result"
    },
    {
     "data": {
      "image/png": "[encoded data removed]",
      "text/plain": [
       "<Figure size 640x480 with 1 Axes>"
      ]
     },
     "metadata": {},
     "output_type": "display_data"
    }
   ],
   "source": [
    "sns.boxplot(final.pc1)"
   ]
  },
  {
   "cell_type": "code",
   "execution_count": 79,
   "id": "a5b83194",
   "metadata": {},
   "outputs": [
    {
     "data": {
      "text/plain": [
       "<AxesSubplot: xlabel='pc2'>"
      ]
     },
     "execution_count": 79,
     "metadata": {},
     "output_type": "execute_result"
    },
    {
     "data": {
      "image/png": "[encoded data removed]",
      "text/plain": [
       "<Figure size 640x480 with 1 Axes>"
      ]
     },
     "metadata": {},
     "output_type": "display_data"
    }
   ],
   "source": [
    "sns.boxplot(final.pc2)"
   ]
  },
  {
   "cell_type": "code",
   "execution_count": 80,
   "id": "f29a44ac",
   "metadata": {},
   "outputs": [],
   "source": [
    "from feature_engine.outliers import Winsorizer"
   ]
  },
  {
   "cell_type": "code",
   "execution_count": 81,
   "id": "66fbff6f",
   "metadata": {},
   "outputs": [],
   "source": [
    "winsor = Winsorizer(capping_method='iqr',tail='both',fold=1.5,variables=['pc2'])\n",
    "final['pc2'] = winsor.fit_transform(final[['pc2']])"
   ]
  },
  {
   "cell_type": "code",
   "execution_count": 82,
   "id": "8bb24860",
   "metadata": {},
   "outputs": [
    {
     "data": {
      "text/plain": [
       "<AxesSubplot: xlabel='pc2'>"
      ]
     },
     "execution_count": 82,
     "metadata": {},
     "output_type": "execute_result"
    },
    {
     "data": {
      "image/png": "[encoded data removed]",
      "text/plain": [
       "<Figure size 640x480 with 1 Axes>"
      ]
     },
     "metadata": {},
     "output_type": "display_data"
    }
   ],
   "source": [
    "sns.boxplot(final.pc2)"
   ]
  },
  {
   "cell_type": "code",
   "execution_count": 83,
   "id": "0173675d",
   "metadata": {},
   "outputs": [],
   "source": [
    "from sklearn.cluster import AgglomerativeClustering,KMeans\n",
    "from scipy.cluster.hierarchy import dendrogram,linkage"
   ]
  },
  {
   "cell_type": "code",
   "execution_count": 84,
   "id": "8a69d4fd",
   "metadata": {},
   "outputs": [
    {
     "data": {
      "image/png": "[encoded data removed]",
      "text/plain": [
       "<Figure size 2500x1000 with 1 Axes>"
      ]
     },
     "metadata": {},
     "output_type": "display_data"
    }
   ],
   "source": [
    "plt.figure(1, figsize = (25, 10))\n",
    "tree_plot = dendrogram(linkage(df_norm, method  = \"ward\"))\n",
    "\n",
    "plt.title('Hierarchical Clustering Dendrogram')\n",
    "plt.xlabel('Index')\n",
    "plt.ylabel('Euclidean distances')\n",
    "plt.show()"
   ]
  },
  {
   "cell_type": "code",
   "execution_count": 85,
   "id": "3139a231",
   "metadata": {},
   "outputs": [
    {
     "data": {
      "text/plain": [
       "[292.494788504465,\n",
       " 250.60374514594696,\n",
       " 213.51247892817238,\n",
       " 197.8342713182663,\n",
       " 182.60397649142791,\n",
       " 168.89625838808644,\n",
       " 160.50244002062374]"
      ]
     },
     "execution_count": 85,
     "metadata": {},
     "output_type": "execute_result"
    }
   ],
   "source": [
    "#kmeans\n",
    "###### scree plot or elbow curve ############\n",
    "TWSS = []\n",
    "k = list(range(2, 9))\n",
    "\n",
    "for i in k:\n",
    "    kmeans = KMeans(n_clusters = i)\n",
    "    kmeans.fit(df_norm)\n",
    "    TWSS.append(kmeans.inertia_)\n",
    "    \n",
    "TWSS"
   ]
  },
  {
   "cell_type": "code",
   "execution_count": 86,
   "id": "ebcb9f57",
   "metadata": {},
   "outputs": [
    {
     "data": {
      "text/plain": [
       "Text(0, 0.5, 'total_within_SS')"
      ]
     },
     "execution_count": 86,
     "metadata": {},
     "output_type": "execute_result"
    },
    {
     "data": {
      "image/png": "[encoded data removed]",
      "text/plain": [
       "<Figure size 640x480 with 1 Axes>"
      ]
     },
     "metadata": {},
     "output_type": "display_data"
    }
   ],
   "source": [
    "#scree plot\n",
    "plt.plot(k,TWSS,'ro-')\n",
    "plt.xlabel(\"No_of_Clusters\")\n",
    "plt.ylabel(\"total_within_SS\")"
   ]
  },
  {
   "cell_type": "code",
   "execution_count": 88,
   "id": "0a207cfa",
   "metadata": {},
   "outputs": [
    {
     "data": {
      "text/plain": [
       "KMeans(n_clusters=3)"
      ]
     },
     "execution_count": 88,
     "metadata": {},
     "output_type": "execute_result"
    }
   ],
   "source": [
    "# Selecting 5 clusters from the above scree plot which is the optimum number of clusters \n",
    "model = KMeans(n_clusters = 3)\n",
    "model.fit(df)"
   ]
  },
  {
   "cell_type": "code",
   "execution_count": 89,
   "id": "4f52d51b",
   "metadata": {},
   "outputs": [
    {
     "data": {
      "text/plain": [
       "array([0, 0, 1, 0, 2, 1, 2, 0, 1, 1, 0, 0, 0, 1, 0, 1, 2, 0, 0, 0, 0, 0,\n",
       "       1, 0, 1, 2, 1, 1, 2, 1, 1, 1, 1, 0, 1, 1, 2, 0, 0, 2, 2, 0, 1, 0,\n",
       "       2, 2, 0, 0, 1, 0, 0, 2, 0, 1, 0, 1, 1, 0, 1, 2, 0, 2, 1, 1, 1, 1,\n",
       "       1, 0, 1, 1, 0, 1, 1, 0, 1, 0, 0, 1, 1, 0, 0, 2, 2, 2, 0, 2, 0, 1,\n",
       "       1, 0, 0, 1, 1, 0, 1, 0, 2, 0, 2, 0, 0, 0, 1, 0, 1, 1, 0, 0, 0, 0,\n",
       "       2, 1, 2, 1, 0, 1, 1, 1, 1, 0, 2, 0, 0, 0, 1, 1, 1, 0, 1, 0, 1, 0,\n",
       "       2, 0, 2, 0, 1, 1, 1, 0, 2, 2, 1, 1, 1, 0, 0, 0, 1, 1, 0, 1, 0, 0,\n",
       "       1, 1, 0, 1, 1, 1, 0, 2, 1, 1, 0, 0, 0, 0, 1, 0, 1, 0, 1, 1, 1, 0,\n",
       "       2, 1, 0, 2, 0, 2, 1, 0, 0, 0, 0, 0, 1, 2, 1, 1, 0, 1, 2, 0, 0, 0,\n",
       "       0, 1, 0, 0, 0, 1, 0, 0, 0, 1, 1, 0, 0, 1, 2, 0, 2, 0, 2, 0, 0, 2,\n",
       "       1, 0, 0, 0, 1, 0, 1, 0, 2, 0, 0, 0, 0, 2, 2, 2, 2, 2, 0, 0, 0, 1,\n",
       "       0, 1, 0, 2, 0, 0, 0, 2, 0, 2, 2, 0, 2, 0, 1, 0, 1, 0, 1, 0, 0, 1,\n",
       "       1, 2, 1, 0, 0, 0, 0, 0, 0, 0, 1, 1, 0, 2, 1, 2, 1, 1, 1, 1, 2, 1,\n",
       "       0, 2, 1, 1, 2, 0, 1, 1, 1, 1, 1, 0, 0, 1, 1, 0])"
      ]
     },
     "execution_count": 89,
     "metadata": {},
     "output_type": "execute_result"
    }
   ],
   "source": [
    "model.labels_     # getting the labels of clusters assigned to each row "
   ]
  },
  {
   "cell_type": "code",
   "execution_count": 91,
   "id": "10d4e377",
   "metadata": {},
   "outputs": [],
   "source": [
    "mb = pd.Series(model.labels_)  # converting numpy array into pandas series object "
   ]
  },
  {
   "cell_type": "code",
   "execution_count": 92,
   "id": "100d5724",
   "metadata": {},
   "outputs": [],
   "source": [
    "final['clust'] = mb # creating a  new column and assigning it to new column "
   ]
  },
  {
   "cell_type": "code",
   "execution_count": 93,
   "id": "185c3bc2",
   "metadata": {},
   "outputs": [
    {
     "data": {
      "text/html": [
       "<div>\n",
       "<style scoped>\n",
       "    .dataframe tbody tr th:only-of-type {\n",
       "        vertical-align: middle;\n",
       "    }\n",
       "\n",
       "    .dataframe tbody tr th {\n",
       "        vertical-align: top;\n",
       "    }\n",
       "\n",
       "    .dataframe thead th {\n",
       "        text-align: right;\n",
       "    }\n",
       "</style>\n",
       "<table border=\"1\" class=\"dataframe\">\n",
       "  <thead>\n",
       "    <tr style=\"text-align: right;\">\n",
       "      <th></th>\n",
       "      <th>clust</th>\n",
       "      <th>pc0</th>\n",
       "      <th>pc1</th>\n",
       "      <th>pc2</th>\n",
       "    </tr>\n",
       "  </thead>\n",
       "  <tbody>\n",
       "    <tr>\n",
       "      <th>0</th>\n",
       "      <td>0</td>\n",
       "      <td>-0.429138</td>\n",
       "      <td>-0.468747</td>\n",
       "      <td>0.773667</td>\n",
       "    </tr>\n",
       "    <tr>\n",
       "      <th>1</th>\n",
       "      <td>0</td>\n",
       "      <td>-0.399186</td>\n",
       "      <td>-0.392879</td>\n",
       "      <td>-0.040837</td>\n",
       "    </tr>\n",
       "    <tr>\n",
       "      <th>2</th>\n",
       "      <td>1</td>\n",
       "      <td>-0.801456</td>\n",
       "      <td>0.437916</td>\n",
       "      <td>-0.078059</td>\n",
       "    </tr>\n",
       "    <tr>\n",
       "      <th>3</th>\n",
       "      <td>0</td>\n",
       "      <td>-0.531849</td>\n",
       "      <td>-0.442848</td>\n",
       "      <td>-0.310874</td>\n",
       "    </tr>\n",
       "    <tr>\n",
       "      <th>4</th>\n",
       "      <td>2</td>\n",
       "      <td>-0.206903</td>\n",
       "      <td>0.863324</td>\n",
       "      <td>-0.672907</td>\n",
       "    </tr>\n",
       "  </tbody>\n",
       "</table>\n",
       "</div>"
      ],
      "text/plain": [
       "   clust       pc0       pc1       pc2\n",
       "0      0 -0.429138 -0.468747  0.773667\n",
       "1      0 -0.399186 -0.392879 -0.040837\n",
       "2      1 -0.801456  0.437916 -0.078059\n",
       "3      0 -0.531849 -0.442848 -0.310874\n",
       "4      2 -0.206903  0.863324 -0.672907"
      ]
     },
     "execution_count": 93,
     "metadata": {},
     "output_type": "execute_result"
    }
   ],
   "source": [
    "final = final.iloc[:,[3,0,1,2]]\n",
    "final.head()"
   ]
  },
  {
   "cell_type": "code",
   "execution_count": 99,
   "id": "91b14d04",
   "metadata": {},
   "outputs": [],
   "source": [
    "final = pd.concat([df.target, final.iloc[:, 0:4]], axis = 1)"
   ]
  },
  {
   "cell_type": "code",
   "execution_count": 100,
   "id": "91873968",
   "metadata": {},
   "outputs": [
    {
     "data": {
      "text/html": [
       "<div>\n",
       "<style scoped>\n",
       "    .dataframe tbody tr th:only-of-type {\n",
       "        vertical-align: middle;\n",
       "    }\n",
       "\n",
       "    .dataframe tbody tr th {\n",
       "        vertical-align: top;\n",
       "    }\n",
       "\n",
       "    .dataframe thead th {\n",
       "        text-align: right;\n",
       "    }\n",
       "</style>\n",
       "<table border=\"1\" class=\"dataframe\">\n",
       "  <thead>\n",
       "    <tr style=\"text-align: right;\">\n",
       "      <th></th>\n",
       "      <th>target</th>\n",
       "      <th>target</th>\n",
       "      <th>clust</th>\n",
       "      <th>pc0</th>\n",
       "      <th>pc1</th>\n",
       "    </tr>\n",
       "  </thead>\n",
       "  <tbody>\n",
       "    <tr>\n",
       "      <th>0</th>\n",
       "      <td>1.0</td>\n",
       "      <td>0.0</td>\n",
       "      <td>0.0</td>\n",
       "      <td>-0.429138</td>\n",
       "      <td>-0.468747</td>\n",
       "    </tr>\n",
       "    <tr>\n",
       "      <th>1</th>\n",
       "      <td>1.0</td>\n",
       "      <td>0.0</td>\n",
       "      <td>0.0</td>\n",
       "      <td>-0.399186</td>\n",
       "      <td>-0.392879</td>\n",
       "    </tr>\n",
       "    <tr>\n",
       "      <th>2</th>\n",
       "      <td>1.0</td>\n",
       "      <td>0.0</td>\n",
       "      <td>1.0</td>\n",
       "      <td>-0.801456</td>\n",
       "      <td>0.437916</td>\n",
       "    </tr>\n",
       "    <tr>\n",
       "      <th>3</th>\n",
       "      <td>1.0</td>\n",
       "      <td>0.0</td>\n",
       "      <td>0.0</td>\n",
       "      <td>-0.531849</td>\n",
       "      <td>-0.442848</td>\n",
       "    </tr>\n",
       "    <tr>\n",
       "      <th>4</th>\n",
       "      <td>1.0</td>\n",
       "      <td>0.0</td>\n",
       "      <td>2.0</td>\n",
       "      <td>-0.206903</td>\n",
       "      <td>0.863324</td>\n",
       "    </tr>\n",
       "  </tbody>\n",
       "</table>\n",
       "</div>"
      ],
      "text/plain": [
       "   target  target  clust       pc0       pc1\n",
       "0     1.0     0.0    0.0 -0.429138 -0.468747\n",
       "1     1.0     0.0    0.0 -0.399186 -0.392879\n",
       "2     1.0     0.0    1.0 -0.801456  0.437916\n",
       "3     1.0     0.0    0.0 -0.531849 -0.442848\n",
       "4     1.0     0.0    2.0 -0.206903  0.863324"
      ]
     },
     "execution_count": 100,
     "metadata": {},
     "output_type": "execute_result"
    }
   ],
   "source": [
    "final['target'].replace({1:0 , 0:1} , inplace=True)\n",
    "final.head()"
   ]
  },
  {
   "cell_type": "code",
   "execution_count": null,
   "id": "178458c2",
   "metadata": {},
   "outputs": [],
   "source": []
  },
  {
   "cell_type": "code",
   "execution_count": null,
   "id": "ef1e8d48",
   "metadata": {},
   "outputs": [],
   "source": []
  }
 ],
 "metadata": {
  "kernelspec": {
   "display_name": "Python 3 (ipykernel)",
   "language": "python",
   "name": "python3"
  },
  "language_info": {
   "codemirror_mode": {
    "name": "ipython",
    "version": 3
   },
   "file_extension": ".py",
   "mimetype": "text/x-python",
   "name": "python",
   "nbconvert_exporter": "python",
   "pygments_lexer": "ipython3",
   "version": "3.9.13"
  }
 },
 "nbformat": 4,
 "nbformat_minor": 5
}
